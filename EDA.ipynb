{
 "cells": [
  {
   "cell_type": "code",
   "execution_count": 2,
   "metadata": {},
   "outputs": [],
   "source": [
    "\n",
    "from SRC.utils import constants as CN\n",
    "from SRC.utils.logger import APP_Logger\n",
    "from SRC.utils.common_utils import get_null_percent , sep_column_dtypes , reduce_memory_usage"
   ]
  },
  {
   "cell_type": "code",
   "execution_count": 115,
   "metadata": {},
   "outputs": [
    {
     "data": {
      "text/html": [
       "        <script type=\"text/javascript\">\n",
       "        window.PlotlyConfig = {MathJaxConfig: 'local'};\n",
       "        if (window.MathJax) {MathJax.Hub.Config({SVG: {font: \"STIX-Web\"}});}\n",
       "        if (typeof require !== 'undefined') {\n",
       "        require.undef(\"plotly\");\n",
       "        requirejs.config({\n",
       "            paths: {\n",
       "                'plotly': ['https://cdn.plot.ly/plotly-2.11.1.min']\n",
       "            }\n",
       "        });\n",
       "        require(['plotly'], function(Plotly) {\n",
       "            window._Plotly = Plotly;\n",
       "        });\n",
       "        }\n",
       "        </script>\n",
       "        "
      ]
     },
     "metadata": {},
     "output_type": "display_data"
    },
    {
     "data": {
      "text/html": [
       "        <script type=\"text/javascript\">\n",
       "        window.PlotlyConfig = {MathJaxConfig: 'local'};\n",
       "        if (window.MathJax) {MathJax.Hub.Config({SVG: {font: \"STIX-Web\"}});}\n",
       "        if (typeof require !== 'undefined') {\n",
       "        require.undef(\"plotly\");\n",
       "        requirejs.config({\n",
       "            paths: {\n",
       "                'plotly': ['https://cdn.plot.ly/plotly-2.11.1.min']\n",
       "            }\n",
       "        });\n",
       "        require(['plotly'], function(Plotly) {\n",
       "            window._Plotly = Plotly;\n",
       "        });\n",
       "        }\n",
       "        </script>\n",
       "        "
      ]
     },
     "metadata": {},
     "output_type": "display_data"
    }
   ],
   "source": [
    "import os \n",
    "import pandas as pd\n",
    "import numpy as np\n",
    "import seaborn as sns\n",
    "import shutil\n",
    "import pickle\n",
    "import matplotlib.pyplot as plt\n",
    "from IPython.display import display, HTML\n",
    "from datetime import datetime\n",
    "from warnings import filterwarnings\n",
    "from pandas_profiling import ProfileReport\n",
    "import requests \n",
    "import cufflinks as cf\n",
    "#***************************************************************************************************#\n",
    "# from sklearn.preprocessing import MinMaxScaler , LabelEncoder , StandardScaler , OneHotEncoder\n",
    "# from sklearn.impute import KNNImputer\n",
    "# from sklearn.model_selection import train_test_split\n",
    "# #***************************************************************************************************#\n",
    "# from sklearn.metrics import mean_squared_error , mean_absolute_error , explained_variance_score , r2_score\n",
    "# from sklearn.model_selection import GridSearchCV\n",
    "# from sklearn.linear_model import LinearRegression ,ElasticNet , ElasticNetCV\n",
    "# from sklearn.ensemble import RandomForestRegressor\n",
    "# from sklearn.svm import SVR\n",
    "# import xgboost as xgb\n",
    "# import optuna\n",
    "#***************************************************************************************************#\n",
    "\n",
    "sns.set(context='notebook', style='darkgrid', palette='deep', font='sans-serif', font_scale=1, color_codes=True, rc=None)\n",
    "pd.options.display.max_columns = 200\n",
    "%matplotlib inline\n",
    "filterwarnings('ignore')\n",
    "cf.go_offline()\n",
    "cf.set_config_file(sharing='public',theme='pearl',offline=True)\n"
   ]
  },
  {
   "cell_type": "code",
   "execution_count": 5,
   "metadata": {},
   "outputs": [
    {
     "data": {
      "text/plain": [
       "['Datasets_Healthy_Older_People']"
      ]
     },
     "execution_count": 5,
     "metadata": {},
     "output_type": "execute_result"
    }
   ],
   "source": [
    "os.listdir(CN.DOWNLOAD_DIR)"
   ]
  },
  {
   "cell_type": "code",
   "execution_count": 26,
   "metadata": {},
   "outputs": [],
   "source": [
    "RAW_DATA =[]"
   ]
  },
  {
   "cell_type": "code",
   "execution_count": 27,
   "metadata": {},
   "outputs": [],
   "source": [
    "for root, dirs, files in os.walk(CN.DOWNLOAD_DIR):\n",
    "    for file in files:\n",
    "            OS_FILE_PATH = os.path.join(root, file)\n",
    "\n",
    "            RAW_DATA.append(OS_FILE_PATH)"
   ]
  },
  {
   "cell_type": "code",
   "execution_count": 28,
   "metadata": {},
   "outputs": [
    {
     "data": {
      "text/plain": [
       "'/home/pk/Desktop/Eda/Elder ppl/Artifacts/Downloads'"
      ]
     },
     "execution_count": 28,
     "metadata": {},
     "output_type": "execute_result"
    }
   ],
   "source": [
    "CN.DOWNLOAD_DIR"
   ]
  },
  {
   "cell_type": "code",
   "execution_count": null,
   "metadata": {},
   "outputs": [],
   "source": [
    "RAW_DATA"
   ]
  },
  {
   "cell_type": "code",
   "execution_count": 47,
   "metadata": {},
   "outputs": [],
   "source": [
    "df = pd.read_csv(RAW_DATA[0] , header = None , names= ['Time', 'Acc_X', 'Acc_Y', 'Acc_Z', 'Id', 'RSSI', 'Phase', 'Freq', 'Label'])"
   ]
  },
  {
   "cell_type": "code",
   "execution_count": 52,
   "metadata": {},
   "outputs": [],
   "source": [
    "filename= RAW_DATA[0].split('/')[-1]\n",
    "df['Filename'] = filename\n",
    "df['gender'] = filename[-1]"
   ]
  },
  {
   "cell_type": "code",
   "execution_count": 59,
   "metadata": {},
   "outputs": [],
   "source": [
    "# Column 1: Time in seconds starting from 0 rounded to the closest 0.025s\n",
    "# Column 2: Acceleration reading in G for frontal axis\n",
    "# Column 3: Acceleration reading in G for vertical axis\n",
    "# Column 4: Acceleration reading in G for lateral axis\n",
    "# Column 5: Id of antenna reading sensor\n",
    "# Column 6: Received signal strength indicator (RSSI) \n",
    "# Column 7: Phase\n",
    "# Column 8: Frequency\n",
    "# Column 9: Label of activity, 1: sit on bed, 2: sit on chair, 3: lying, 4: ambulating\n",
    "\n",
    "\n",
    "columns = ['Time', 'Acc_X', 'Acc_Y', 'Acc_Z', 'Id', 'RSSI', 'Phase', 'Freq', 'Label' , 'Filename' , 'gender' , 'Room']"
   ]
  },
  {
   "cell_type": "code",
   "execution_count": 60,
   "metadata": {},
   "outputs": [
    {
     "data": {
      "text/html": [
       "<div>\n",
       "<style scoped>\n",
       "    .dataframe tbody tr th:only-of-type {\n",
       "        vertical-align: middle;\n",
       "    }\n",
       "\n",
       "    .dataframe tbody tr th {\n",
       "        vertical-align: top;\n",
       "    }\n",
       "\n",
       "    .dataframe thead th {\n",
       "        text-align: right;\n",
       "    }\n",
       "</style>\n",
       "<table border=\"1\" class=\"dataframe\">\n",
       "  <thead>\n",
       "    <tr style=\"text-align: right;\">\n",
       "      <th></th>\n",
       "      <th>Time</th>\n",
       "      <th>Acc_X</th>\n",
       "      <th>Acc_Y</th>\n",
       "      <th>Acc_Z</th>\n",
       "      <th>Id</th>\n",
       "      <th>RSSI</th>\n",
       "      <th>Phase</th>\n",
       "      <th>Freq</th>\n",
       "      <th>Label</th>\n",
       "      <th>Filename</th>\n",
       "      <th>gender</th>\n",
       "    </tr>\n",
       "  </thead>\n",
       "  <tbody>\n",
       "    <tr>\n",
       "      <th>0</th>\n",
       "      <td>0.00</td>\n",
       "      <td>0.060972</td>\n",
       "      <td>0.99674</td>\n",
       "      <td>-0.161920</td>\n",
       "      <td>3</td>\n",
       "      <td>-59.5</td>\n",
       "      <td>4.76150</td>\n",
       "      <td>924.25</td>\n",
       "      <td>4</td>\n",
       "      <td>d2p26F</td>\n",
       "      <td>F</td>\n",
       "    </tr>\n",
       "    <tr>\n",
       "      <th>1</th>\n",
       "      <td>0.25</td>\n",
       "      <td>0.060972</td>\n",
       "      <td>0.99674</td>\n",
       "      <td>-0.161920</td>\n",
       "      <td>3</td>\n",
       "      <td>-60.0</td>\n",
       "      <td>0.93573</td>\n",
       "      <td>924.75</td>\n",
       "      <td>4</td>\n",
       "      <td>d2p26F</td>\n",
       "      <td>F</td>\n",
       "    </tr>\n",
       "    <tr>\n",
       "      <th>2</th>\n",
       "      <td>1.50</td>\n",
       "      <td>-0.021106</td>\n",
       "      <td>0.82449</td>\n",
       "      <td>-0.082102</td>\n",
       "      <td>3</td>\n",
       "      <td>-65.5</td>\n",
       "      <td>4.11260</td>\n",
       "      <td>922.25</td>\n",
       "      <td>4</td>\n",
       "      <td>d2p26F</td>\n",
       "      <td>F</td>\n",
       "    </tr>\n",
       "    <tr>\n",
       "      <th>3</th>\n",
       "      <td>3.50</td>\n",
       "      <td>0.201680</td>\n",
       "      <td>0.98526</td>\n",
       "      <td>-0.082102</td>\n",
       "      <td>2</td>\n",
       "      <td>-64.0</td>\n",
       "      <td>5.68340</td>\n",
       "      <td>921.25</td>\n",
       "      <td>1</td>\n",
       "      <td>d2p26F</td>\n",
       "      <td>F</td>\n",
       "    </tr>\n",
       "    <tr>\n",
       "      <th>4</th>\n",
       "      <td>3.75</td>\n",
       "      <td>0.201680</td>\n",
       "      <td>0.98526</td>\n",
       "      <td>-0.082102</td>\n",
       "      <td>3</td>\n",
       "      <td>-59.0</td>\n",
       "      <td>1.67970</td>\n",
       "      <td>920.75</td>\n",
       "      <td>1</td>\n",
       "      <td>d2p26F</td>\n",
       "      <td>F</td>\n",
       "    </tr>\n",
       "  </tbody>\n",
       "</table>\n",
       "</div>"
      ],
      "text/plain": [
       "   Time     Acc_X    Acc_Y     Acc_Z  Id  RSSI    Phase    Freq  Label  \\\n",
       "0  0.00  0.060972  0.99674 -0.161920   3 -59.5  4.76150  924.25      4   \n",
       "1  0.25  0.060972  0.99674 -0.161920   3 -60.0  0.93573  924.75      4   \n",
       "2  1.50 -0.021106  0.82449 -0.082102   3 -65.5  4.11260  922.25      4   \n",
       "3  3.50  0.201680  0.98526 -0.082102   2 -64.0  5.68340  921.25      1   \n",
       "4  3.75  0.201680  0.98526 -0.082102   3 -59.0  1.67970  920.75      1   \n",
       "\n",
       "  Filename gender  \n",
       "0   d2p26F      F  \n",
       "1   d2p26F      F  \n",
       "2   d2p26F      F  \n",
       "3   d2p26F      F  \n",
       "4   d2p26F      F  "
      ]
     },
     "execution_count": 60,
     "metadata": {},
     "output_type": "execute_result"
    }
   ],
   "source": [
    "df.head()"
   ]
  },
  {
   "cell_type": "code",
   "execution_count": 85,
   "metadata": {},
   "outputs": [],
   "source": [
    "result = pd.DataFrame(columns =columns )\n",
    "\n",
    "for root, dirs, files in os.walk(CN.DOWNLOAD_DIR):\n",
    "    for file in files:\n",
    "            OS_FILE_PATH = os.path.join(root, file)\n",
    "            # print(OS_FILE_PATH)\n",
    "            if not OS_FILE_PATH.endswith('.txt'):\n",
    "                df = pd.read_csv(OS_FILE_PATH , header = None , names= ['Time', 'Acc_X', 'Acc_Y', 'Acc_Z', 'Id', 'RSSI', 'Phase', 'Freq', 'Label'])\n",
    "                df['filename'] = file\n",
    "                df['gender'] = file[-1]\n",
    "                df['Room'] = OS_FILE_PATH.split('/')[-2]\n",
    "                # display(df.head(2))\n",
    "                result = pd.concat([result,df])\n",
    "            else:\n",
    "                pass\n"
   ]
  },
  {
   "cell_type": "code",
   "execution_count": 86,
   "metadata": {},
   "outputs": [
    {
     "data": {
      "text/plain": [
       "(75128, 13)"
      ]
     },
     "execution_count": 86,
     "metadata": {},
     "output_type": "execute_result"
    }
   ],
   "source": [
    "result.shape"
   ]
  },
  {
   "cell_type": "code",
   "execution_count": 90,
   "metadata": {},
   "outputs": [],
   "source": [
    "result.to_csv(CN.RAW_FILE_NAME)"
   ]
  },
  {
   "cell_type": "code",
   "execution_count": 92,
   "metadata": {},
   "outputs": [
    {
     "data": {
      "text/plain": [
       "array(['d2p26F', 'd2p27F', 'd2p05F', 'd2p25F', 'd2p06F', 'd2p19M',\n",
       "       'd2p04F', 'd2p24F', 'd2p01F', 'd2p08F', 'd2p16F', 'd2p12F',\n",
       "       'd2p13F', 'd2p17F', 'd2p18M', 'd2p11F', 'd2p22M', 'd2p15F',\n",
       "       'd2p14F', 'd2p02F', 'd2p10F', 'd2p03F', 'd2p07F', 'd2p09F',\n",
       "       'd2p20M', 'd2p21M', 'd2p23F', 'd1p09F', 'd1p49F', 'd1p51F',\n",
       "       'd1p39M', 'd1p57F', 'd1p14F', 'd1p15F', 'd1p07M', 'd1p23F',\n",
       "       'd1p16F', 'd1p44M', 'd1p08F', 'd1p34F', 'd1p20F', 'd1p25F',\n",
       "       'd1p29F', 'd1p56F', 'd1p37M', 'd1p48M', 'd1p32F', 'd1p31F',\n",
       "       'd1p17F', 'd1p04M', 'd1p03M', 'd1p28F', 'd1p26F', 'd1p18F',\n",
       "       'd1p13F', 'd1p53F', 'd1p46M', 'd1p36M', 'd1p33F', 'd1p47M',\n",
       "       'd1p12F', 'd1p50F', 'd1p41M', 'd1p24F', 'd1p58F', 'd1p06M',\n",
       "       'd1p19F', 'd1p52F', 'd1p10F', 'd1p59F', 'd1p60F', 'd1p27F',\n",
       "       'd1p02M', 'd1p05M', 'd1p42M', 'd1p01M', 'd1p30F', 'd1p22F',\n",
       "       'd1p40M', 'd1p35F', 'd1p38M', 'd1p21F', 'd1p54F', 'd1p11F',\n",
       "       'd1p43M', 'd1p45M', 'd1p55F'], dtype=object)"
      ]
     },
     "execution_count": 92,
     "metadata": {},
     "output_type": "execute_result"
    }
   ],
   "source": [
    "result.filename.unique()"
   ]
  },
  {
   "cell_type": "code",
   "execution_count": 96,
   "metadata": {},
   "outputs": [],
   "source": [
    "df = pd.read_csv('Artifacts/Downloads/Datasets_Healthy_Older_People/S1_Dataset/d1p01M' , header = None , names= ['Time', 'Acc_X', 'Acc_Y', 'Acc_Z', 'Id', 'RSSI', 'Phase', 'Freq', 'Label'])"
   ]
  },
  {
   "cell_type": "code",
   "execution_count": 97,
   "metadata": {},
   "outputs": [
    {
     "data": {
      "text/plain": [
       "(401, 9)"
      ]
     },
     "execution_count": 97,
     "metadata": {},
     "output_type": "execute_result"
    }
   ],
   "source": [
    "df.shape"
   ]
  },
  {
   "cell_type": "code",
   "execution_count": 99,
   "metadata": {},
   "outputs": [
    {
     "data": {
      "text/html": [
       "<div>\n",
       "<style scoped>\n",
       "    .dataframe tbody tr th:only-of-type {\n",
       "        vertical-align: middle;\n",
       "    }\n",
       "\n",
       "    .dataframe tbody tr th {\n",
       "        vertical-align: top;\n",
       "    }\n",
       "\n",
       "    .dataframe thead th {\n",
       "        text-align: right;\n",
       "    }\n",
       "</style>\n",
       "<table border=\"1\" class=\"dataframe\">\n",
       "  <thead>\n",
       "    <tr style=\"text-align: right;\">\n",
       "      <th></th>\n",
       "      <th>Time</th>\n",
       "      <th>Acc_X</th>\n",
       "      <th>Acc_Y</th>\n",
       "      <th>Acc_Z</th>\n",
       "      <th>Id</th>\n",
       "      <th>RSSI</th>\n",
       "      <th>Phase</th>\n",
       "      <th>Freq</th>\n",
       "      <th>Label</th>\n",
       "    </tr>\n",
       "  </thead>\n",
       "  <tbody>\n",
       "    <tr>\n",
       "      <th>0</th>\n",
       "      <td>0.000</td>\n",
       "      <td>0.27203</td>\n",
       "      <td>1.00820</td>\n",
       "      <td>-0.082102</td>\n",
       "      <td>1</td>\n",
       "      <td>-63.5</td>\n",
       "      <td>2.4252</td>\n",
       "      <td>924.25</td>\n",
       "      <td>1</td>\n",
       "    </tr>\n",
       "    <tr>\n",
       "      <th>1</th>\n",
       "      <td>0.500</td>\n",
       "      <td>0.27203</td>\n",
       "      <td>1.00820</td>\n",
       "      <td>-0.082102</td>\n",
       "      <td>1</td>\n",
       "      <td>-63.0</td>\n",
       "      <td>4.7369</td>\n",
       "      <td>921.75</td>\n",
       "      <td>1</td>\n",
       "    </tr>\n",
       "    <tr>\n",
       "      <th>2</th>\n",
       "      <td>1.500</td>\n",
       "      <td>0.44791</td>\n",
       "      <td>0.91636</td>\n",
       "      <td>-0.013684</td>\n",
       "      <td>1</td>\n",
       "      <td>-63.5</td>\n",
       "      <td>3.0311</td>\n",
       "      <td>923.75</td>\n",
       "      <td>1</td>\n",
       "    </tr>\n",
       "    <tr>\n",
       "      <th>3</th>\n",
       "      <td>1.750</td>\n",
       "      <td>0.44791</td>\n",
       "      <td>0.91636</td>\n",
       "      <td>-0.013684</td>\n",
       "      <td>1</td>\n",
       "      <td>-63.0</td>\n",
       "      <td>2.0371</td>\n",
       "      <td>921.25</td>\n",
       "      <td>1</td>\n",
       "    </tr>\n",
       "    <tr>\n",
       "      <th>4</th>\n",
       "      <td>2.500</td>\n",
       "      <td>0.34238</td>\n",
       "      <td>0.96229</td>\n",
       "      <td>-0.059296</td>\n",
       "      <td>1</td>\n",
       "      <td>-63.5</td>\n",
       "      <td>5.8920</td>\n",
       "      <td>920.25</td>\n",
       "      <td>1</td>\n",
       "    </tr>\n",
       "    <tr>\n",
       "      <th>...</th>\n",
       "      <td>...</td>\n",
       "      <td>...</td>\n",
       "      <td>...</td>\n",
       "      <td>...</td>\n",
       "      <td>...</td>\n",
       "      <td>...</td>\n",
       "      <td>...</td>\n",
       "      <td>...</td>\n",
       "      <td>...</td>\n",
       "    </tr>\n",
       "    <tr>\n",
       "      <th>95</th>\n",
       "      <td>50.000</td>\n",
       "      <td>0.94038</td>\n",
       "      <td>-0.18603</td>\n",
       "      <td>-0.161920</td>\n",
       "      <td>4</td>\n",
       "      <td>-66.5</td>\n",
       "      <td>5.3321</td>\n",
       "      <td>923.75</td>\n",
       "      <td>3</td>\n",
       "    </tr>\n",
       "    <tr>\n",
       "      <th>96</th>\n",
       "      <td>50.500</td>\n",
       "      <td>0.92865</td>\n",
       "      <td>-0.19751</td>\n",
       "      <td>-0.150520</td>\n",
       "      <td>4</td>\n",
       "      <td>-65.5</td>\n",
       "      <td>1.8623</td>\n",
       "      <td>921.25</td>\n",
       "      <td>3</td>\n",
       "    </tr>\n",
       "    <tr>\n",
       "      <th>97</th>\n",
       "      <td>50.750</td>\n",
       "      <td>0.92865</td>\n",
       "      <td>-0.19751</td>\n",
       "      <td>-0.150520</td>\n",
       "      <td>3</td>\n",
       "      <td>-50.5</td>\n",
       "      <td>6.0638</td>\n",
       "      <td>920.75</td>\n",
       "      <td>3</td>\n",
       "    </tr>\n",
       "    <tr>\n",
       "      <th>98</th>\n",
       "      <td>50.825</td>\n",
       "      <td>0.92865</td>\n",
       "      <td>-0.19751</td>\n",
       "      <td>-0.150520</td>\n",
       "      <td>4</td>\n",
       "      <td>-66.0</td>\n",
       "      <td>5.4272</td>\n",
       "      <td>920.75</td>\n",
       "      <td>3</td>\n",
       "    </tr>\n",
       "    <tr>\n",
       "      <th>99</th>\n",
       "      <td>51.750</td>\n",
       "      <td>1.18660</td>\n",
       "      <td>-0.30086</td>\n",
       "      <td>-0.036490</td>\n",
       "      <td>4</td>\n",
       "      <td>-66.0</td>\n",
       "      <td>5.8951</td>\n",
       "      <td>923.25</td>\n",
       "      <td>3</td>\n",
       "    </tr>\n",
       "  </tbody>\n",
       "</table>\n",
       "<p>100 rows × 9 columns</p>\n",
       "</div>"
      ],
      "text/plain": [
       "      Time    Acc_X    Acc_Y     Acc_Z  Id  RSSI   Phase    Freq  Label\n",
       "0    0.000  0.27203  1.00820 -0.082102   1 -63.5  2.4252  924.25      1\n",
       "1    0.500  0.27203  1.00820 -0.082102   1 -63.0  4.7369  921.75      1\n",
       "2    1.500  0.44791  0.91636 -0.013684   1 -63.5  3.0311  923.75      1\n",
       "3    1.750  0.44791  0.91636 -0.013684   1 -63.0  2.0371  921.25      1\n",
       "4    2.500  0.34238  0.96229 -0.059296   1 -63.5  5.8920  920.25      1\n",
       "..     ...      ...      ...       ...  ..   ...     ...     ...    ...\n",
       "95  50.000  0.94038 -0.18603 -0.161920   4 -66.5  5.3321  923.75      3\n",
       "96  50.500  0.92865 -0.19751 -0.150520   4 -65.5  1.8623  921.25      3\n",
       "97  50.750  0.92865 -0.19751 -0.150520   3 -50.5  6.0638  920.75      3\n",
       "98  50.825  0.92865 -0.19751 -0.150520   4 -66.0  5.4272  920.75      3\n",
       "99  51.750  1.18660 -0.30086 -0.036490   4 -66.0  5.8951  923.25      3\n",
       "\n",
       "[100 rows x 9 columns]"
      ]
     },
     "execution_count": 99,
     "metadata": {},
     "output_type": "execute_result"
    }
   ],
   "source": [
    "df.head(100)"
   ]
  },
  {
   "cell_type": "code",
   "execution_count": 101,
   "metadata": {},
   "outputs": [],
   "source": [
    "df['Label_act'] = df['Label'].map({1: 'sit on bed', 2: 'sit on chair', 3: 'lying', 4: 'ambulating'})"
   ]
  },
  {
   "cell_type": "code",
   "execution_count": 103,
   "metadata": {},
   "outputs": [
    {
     "data": {
      "text/plain": [
       "lying           220\n",
       "sit on bed      114\n",
       "sit on chair     60\n",
       "ambulating        7\n",
       "Name: Label_act, dtype: int64"
      ]
     },
     "execution_count": 103,
     "metadata": {},
     "output_type": "execute_result"
    }
   ],
   "source": [
    "df['Label_act'].value_counts()"
   ]
  },
  {
   "cell_type": "code",
   "execution_count": 111,
   "metadata": {},
   "outputs": [
    {
     "data": {
      "text/html": [
       "<div>\n",
       "<style scoped>\n",
       "    .dataframe tbody tr th:only-of-type {\n",
       "        vertical-align: middle;\n",
       "    }\n",
       "\n",
       "    .dataframe tbody tr th {\n",
       "        vertical-align: top;\n",
       "    }\n",
       "\n",
       "    .dataframe thead th {\n",
       "        text-align: right;\n",
       "    }\n",
       "</style>\n",
       "<table border=\"1\" class=\"dataframe\">\n",
       "  <thead>\n",
       "    <tr style=\"text-align: right;\">\n",
       "      <th></th>\n",
       "      <th>Time</th>\n",
       "      <th>Acc_X</th>\n",
       "      <th>Acc_Y</th>\n",
       "      <th>Acc_Z</th>\n",
       "      <th>Id</th>\n",
       "      <th>RSSI</th>\n",
       "      <th>Phase</th>\n",
       "      <th>Freq</th>\n",
       "      <th>Label</th>\n",
       "      <th>Label_act</th>\n",
       "    </tr>\n",
       "  </thead>\n",
       "  <tbody>\n",
       "    <tr>\n",
       "      <th>0</th>\n",
       "      <td>0.00</td>\n",
       "      <td>0.27203</td>\n",
       "      <td>1.00820</td>\n",
       "      <td>-0.082102</td>\n",
       "      <td>1</td>\n",
       "      <td>-63.5</td>\n",
       "      <td>2.42520</td>\n",
       "      <td>924.25</td>\n",
       "      <td>1</td>\n",
       "      <td>sit on bed</td>\n",
       "    </tr>\n",
       "    <tr>\n",
       "      <th>1</th>\n",
       "      <td>0.50</td>\n",
       "      <td>0.27203</td>\n",
       "      <td>1.00820</td>\n",
       "      <td>-0.082102</td>\n",
       "      <td>1</td>\n",
       "      <td>-63.0</td>\n",
       "      <td>4.73690</td>\n",
       "      <td>921.75</td>\n",
       "      <td>1</td>\n",
       "      <td>sit on bed</td>\n",
       "    </tr>\n",
       "    <tr>\n",
       "      <th>2</th>\n",
       "      <td>1.50</td>\n",
       "      <td>0.44791</td>\n",
       "      <td>0.91636</td>\n",
       "      <td>-0.013684</td>\n",
       "      <td>1</td>\n",
       "      <td>-63.5</td>\n",
       "      <td>3.03110</td>\n",
       "      <td>923.75</td>\n",
       "      <td>1</td>\n",
       "      <td>sit on bed</td>\n",
       "    </tr>\n",
       "    <tr>\n",
       "      <th>3</th>\n",
       "      <td>1.75</td>\n",
       "      <td>0.44791</td>\n",
       "      <td>0.91636</td>\n",
       "      <td>-0.013684</td>\n",
       "      <td>1</td>\n",
       "      <td>-63.0</td>\n",
       "      <td>2.03710</td>\n",
       "      <td>921.25</td>\n",
       "      <td>1</td>\n",
       "      <td>sit on bed</td>\n",
       "    </tr>\n",
       "    <tr>\n",
       "      <th>4</th>\n",
       "      <td>2.50</td>\n",
       "      <td>0.34238</td>\n",
       "      <td>0.96229</td>\n",
       "      <td>-0.059296</td>\n",
       "      <td>1</td>\n",
       "      <td>-63.5</td>\n",
       "      <td>5.89200</td>\n",
       "      <td>920.25</td>\n",
       "      <td>1</td>\n",
       "      <td>sit on bed</td>\n",
       "    </tr>\n",
       "    <tr>\n",
       "      <th>5</th>\n",
       "      <td>3.25</td>\n",
       "      <td>0.34238</td>\n",
       "      <td>0.96229</td>\n",
       "      <td>-0.059296</td>\n",
       "      <td>4</td>\n",
       "      <td>-56.5</td>\n",
       "      <td>1.25630</td>\n",
       "      <td>924.75</td>\n",
       "      <td>1</td>\n",
       "      <td>sit on bed</td>\n",
       "    </tr>\n",
       "    <tr>\n",
       "      <th>6</th>\n",
       "      <td>4.00</td>\n",
       "      <td>0.30721</td>\n",
       "      <td>0.99674</td>\n",
       "      <td>-0.070699</td>\n",
       "      <td>1</td>\n",
       "      <td>-63.5</td>\n",
       "      <td>3.87180</td>\n",
       "      <td>922.75</td>\n",
       "      <td>1</td>\n",
       "      <td>sit on bed</td>\n",
       "    </tr>\n",
       "    <tr>\n",
       "      <th>7</th>\n",
       "      <td>5.00</td>\n",
       "      <td>0.27203</td>\n",
       "      <td>0.99674</td>\n",
       "      <td>-0.093505</td>\n",
       "      <td>1</td>\n",
       "      <td>-64.0</td>\n",
       "      <td>2.49430</td>\n",
       "      <td>924.25</td>\n",
       "      <td>1</td>\n",
       "      <td>sit on bed</td>\n",
       "    </tr>\n",
       "    <tr>\n",
       "      <th>8</th>\n",
       "      <td>5.50</td>\n",
       "      <td>0.23685</td>\n",
       "      <td>1.03120</td>\n",
       "      <td>-0.127710</td>\n",
       "      <td>1</td>\n",
       "      <td>-64.5</td>\n",
       "      <td>2.00800</td>\n",
       "      <td>924.75</td>\n",
       "      <td>1</td>\n",
       "      <td>sit on bed</td>\n",
       "    </tr>\n",
       "    <tr>\n",
       "      <th>9</th>\n",
       "      <td>6.00</td>\n",
       "      <td>0.23685</td>\n",
       "      <td>1.03120</td>\n",
       "      <td>-0.127710</td>\n",
       "      <td>1</td>\n",
       "      <td>-66.0</td>\n",
       "      <td>1.19040</td>\n",
       "      <td>925.75</td>\n",
       "      <td>1</td>\n",
       "      <td>sit on bed</td>\n",
       "    </tr>\n",
       "    <tr>\n",
       "      <th>10</th>\n",
       "      <td>6.50</td>\n",
       "      <td>0.23685</td>\n",
       "      <td>1.03120</td>\n",
       "      <td>-0.127710</td>\n",
       "      <td>1</td>\n",
       "      <td>-63.0</td>\n",
       "      <td>0.61206</td>\n",
       "      <td>922.75</td>\n",
       "      <td>1</td>\n",
       "      <td>sit on bed</td>\n",
       "    </tr>\n",
       "    <tr>\n",
       "      <th>11</th>\n",
       "      <td>6.75</td>\n",
       "      <td>0.23685</td>\n",
       "      <td>1.03120</td>\n",
       "      <td>-0.127710</td>\n",
       "      <td>1</td>\n",
       "      <td>-65.0</td>\n",
       "      <td>1.65060</td>\n",
       "      <td>925.25</td>\n",
       "      <td>1</td>\n",
       "      <td>sit on bed</td>\n",
       "    </tr>\n",
       "    <tr>\n",
       "      <th>12</th>\n",
       "      <td>7.75</td>\n",
       "      <td>0.31893</td>\n",
       "      <td>0.99674</td>\n",
       "      <td>-0.070699</td>\n",
       "      <td>1</td>\n",
       "      <td>-62.0</td>\n",
       "      <td>4.80750</td>\n",
       "      <td>921.75</td>\n",
       "      <td>1</td>\n",
       "      <td>sit on bed</td>\n",
       "    </tr>\n",
       "    <tr>\n",
       "      <th>13</th>\n",
       "      <td>8.00</td>\n",
       "      <td>0.31893</td>\n",
       "      <td>0.99674</td>\n",
       "      <td>-0.070699</td>\n",
       "      <td>4</td>\n",
       "      <td>-56.5</td>\n",
       "      <td>4.52520</td>\n",
       "      <td>924.75</td>\n",
       "      <td>1</td>\n",
       "      <td>sit on bed</td>\n",
       "    </tr>\n",
       "    <tr>\n",
       "      <th>14</th>\n",
       "      <td>9.00</td>\n",
       "      <td>0.47136</td>\n",
       "      <td>0.92784</td>\n",
       "      <td>-0.002281</td>\n",
       "      <td>1</td>\n",
       "      <td>-62.5</td>\n",
       "      <td>3.81350</td>\n",
       "      <td>922.75</td>\n",
       "      <td>1</td>\n",
       "      <td>sit on bed</td>\n",
       "    </tr>\n",
       "    <tr>\n",
       "      <th>15</th>\n",
       "      <td>9.75</td>\n",
       "      <td>0.40101</td>\n",
       "      <td>0.93932</td>\n",
       "      <td>-0.025087</td>\n",
       "      <td>1</td>\n",
       "      <td>-64.0</td>\n",
       "      <td>2.41300</td>\n",
       "      <td>924.25</td>\n",
       "      <td>1</td>\n",
       "      <td>sit on bed</td>\n",
       "    </tr>\n",
       "    <tr>\n",
       "      <th>16</th>\n",
       "      <td>10.00</td>\n",
       "      <td>0.40101</td>\n",
       "      <td>0.93932</td>\n",
       "      <td>-0.025087</td>\n",
       "      <td>1</td>\n",
       "      <td>-62.5</td>\n",
       "      <td>1.53090</td>\n",
       "      <td>921.75</td>\n",
       "      <td>1</td>\n",
       "      <td>sit on bed</td>\n",
       "    </tr>\n",
       "    <tr>\n",
       "      <th>17</th>\n",
       "      <td>10.50</td>\n",
       "      <td>0.40101</td>\n",
       "      <td>0.93932</td>\n",
       "      <td>-0.025087</td>\n",
       "      <td>1</td>\n",
       "      <td>-64.5</td>\n",
       "      <td>5.22470</td>\n",
       "      <td>924.75</td>\n",
       "      <td>1</td>\n",
       "      <td>sit on bed</td>\n",
       "    </tr>\n",
       "    <tr>\n",
       "      <th>18</th>\n",
       "      <td>10.75</td>\n",
       "      <td>0.40101</td>\n",
       "      <td>0.93932</td>\n",
       "      <td>-0.025087</td>\n",
       "      <td>4</td>\n",
       "      <td>-58.0</td>\n",
       "      <td>0.50468</td>\n",
       "      <td>925.75</td>\n",
       "      <td>1</td>\n",
       "      <td>sit on bed</td>\n",
       "    </tr>\n",
       "    <tr>\n",
       "      <th>19</th>\n",
       "      <td>12.00</td>\n",
       "      <td>0.30721</td>\n",
       "      <td>0.99674</td>\n",
       "      <td>-0.070699</td>\n",
       "      <td>1</td>\n",
       "      <td>-64.0</td>\n",
       "      <td>2.46200</td>\n",
       "      <td>924.25</td>\n",
       "      <td>1</td>\n",
       "      <td>sit on bed</td>\n",
       "    </tr>\n",
       "    <tr>\n",
       "      <th>20</th>\n",
       "      <td>12.50</td>\n",
       "      <td>0.30721</td>\n",
       "      <td>0.99674</td>\n",
       "      <td>-0.070699</td>\n",
       "      <td>1</td>\n",
       "      <td>-63.0</td>\n",
       "      <td>5.90890</td>\n",
       "      <td>920.25</td>\n",
       "      <td>1</td>\n",
       "      <td>sit on bed</td>\n",
       "    </tr>\n",
       "    <tr>\n",
       "      <th>21</th>\n",
       "      <td>13.00</td>\n",
       "      <td>0.30721</td>\n",
       "      <td>0.99674</td>\n",
       "      <td>-0.070699</td>\n",
       "      <td>1</td>\n",
       "      <td>-64.0</td>\n",
       "      <td>1.99260</td>\n",
       "      <td>924.75</td>\n",
       "      <td>1</td>\n",
       "      <td>sit on bed</td>\n",
       "    </tr>\n",
       "    <tr>\n",
       "      <th>22</th>\n",
       "      <td>14.00</td>\n",
       "      <td>0.41273</td>\n",
       "      <td>0.93932</td>\n",
       "      <td>-0.002281</td>\n",
       "      <td>1</td>\n",
       "      <td>-62.0</td>\n",
       "      <td>1.92210</td>\n",
       "      <td>921.25</td>\n",
       "      <td>1</td>\n",
       "      <td>sit on bed</td>\n",
       "    </tr>\n",
       "    <tr>\n",
       "      <th>23</th>\n",
       "      <td>15.25</td>\n",
       "      <td>0.27203</td>\n",
       "      <td>1.00820</td>\n",
       "      <td>-0.104910</td>\n",
       "      <td>4</td>\n",
       "      <td>-57.0</td>\n",
       "      <td>1.37140</td>\n",
       "      <td>924.75</td>\n",
       "      <td>1</td>\n",
       "      <td>sit on bed</td>\n",
       "    </tr>\n",
       "    <tr>\n",
       "      <th>24</th>\n",
       "      <td>15.50</td>\n",
       "      <td>0.27203</td>\n",
       "      <td>1.00820</td>\n",
       "      <td>-0.104910</td>\n",
       "      <td>1</td>\n",
       "      <td>-62.0</td>\n",
       "      <td>1.08450</td>\n",
       "      <td>922.25</td>\n",
       "      <td>1</td>\n",
       "      <td>sit on bed</td>\n",
       "    </tr>\n",
       "    <tr>\n",
       "      <th>25</th>\n",
       "      <td>16.50</td>\n",
       "      <td>0.24858</td>\n",
       "      <td>1.03120</td>\n",
       "      <td>-0.093505</td>\n",
       "      <td>1</td>\n",
       "      <td>-65.0</td>\n",
       "      <td>4.56970</td>\n",
       "      <td>925.25</td>\n",
       "      <td>1</td>\n",
       "      <td>sit on bed</td>\n",
       "    </tr>\n",
       "    <tr>\n",
       "      <th>26</th>\n",
       "      <td>17.50</td>\n",
       "      <td>0.26030</td>\n",
       "      <td>1.01970</td>\n",
       "      <td>-0.104910</td>\n",
       "      <td>1</td>\n",
       "      <td>-62.5</td>\n",
       "      <td>1.50640</td>\n",
       "      <td>921.75</td>\n",
       "      <td>1</td>\n",
       "      <td>sit on bed</td>\n",
       "    </tr>\n",
       "    <tr>\n",
       "      <th>27</th>\n",
       "      <td>18.50</td>\n",
       "      <td>0.31893</td>\n",
       "      <td>0.99674</td>\n",
       "      <td>-0.070699</td>\n",
       "      <td>1</td>\n",
       "      <td>-64.0</td>\n",
       "      <td>5.99630</td>\n",
       "      <td>923.75</td>\n",
       "      <td>1</td>\n",
       "      <td>sit on bed</td>\n",
       "    </tr>\n",
       "    <tr>\n",
       "      <th>28</th>\n",
       "      <td>18.75</td>\n",
       "      <td>0.31893</td>\n",
       "      <td>0.99674</td>\n",
       "      <td>-0.070699</td>\n",
       "      <td>1</td>\n",
       "      <td>-62.0</td>\n",
       "      <td>1.92050</td>\n",
       "      <td>921.25</td>\n",
       "      <td>1</td>\n",
       "      <td>sit on bed</td>\n",
       "    </tr>\n",
       "    <tr>\n",
       "      <th>29</th>\n",
       "      <td>19.25</td>\n",
       "      <td>0.31893</td>\n",
       "      <td>0.99674</td>\n",
       "      <td>-0.070699</td>\n",
       "      <td>1</td>\n",
       "      <td>-62.5</td>\n",
       "      <td>2.27640</td>\n",
       "      <td>920.75</td>\n",
       "      <td>1</td>\n",
       "      <td>sit on bed</td>\n",
       "    </tr>\n",
       "    <tr>\n",
       "      <th>30</th>\n",
       "      <td>20.00</td>\n",
       "      <td>0.43619</td>\n",
       "      <td>0.91636</td>\n",
       "      <td>0.009122</td>\n",
       "      <td>1</td>\n",
       "      <td>-63.0</td>\n",
       "      <td>6.26630</td>\n",
       "      <td>923.25</td>\n",
       "      <td>1</td>\n",
       "      <td>sit on bed</td>\n",
       "    </tr>\n",
       "    <tr>\n",
       "      <th>31</th>\n",
       "      <td>21.00</td>\n",
       "      <td>0.47136</td>\n",
       "      <td>0.92784</td>\n",
       "      <td>0.020525</td>\n",
       "      <td>1</td>\n",
       "      <td>-64.0</td>\n",
       "      <td>2.85320</td>\n",
       "      <td>923.75</td>\n",
       "      <td>1</td>\n",
       "      <td>sit on bed</td>\n",
       "    </tr>\n",
       "    <tr>\n",
       "      <th>32</th>\n",
       "      <td>22.75</td>\n",
       "      <td>0.21340</td>\n",
       "      <td>1.03120</td>\n",
       "      <td>-0.127710</td>\n",
       "      <td>1</td>\n",
       "      <td>-64.5</td>\n",
       "      <td>4.90870</td>\n",
       "      <td>924.75</td>\n",
       "      <td>1</td>\n",
       "      <td>sit on bed</td>\n",
       "    </tr>\n",
       "    <tr>\n",
       "      <th>33</th>\n",
       "      <td>23.00</td>\n",
       "      <td>0.21340</td>\n",
       "      <td>1.03120</td>\n",
       "      <td>-0.127710</td>\n",
       "      <td>4</td>\n",
       "      <td>-57.5</td>\n",
       "      <td>0.54763</td>\n",
       "      <td>925.75</td>\n",
       "      <td>1</td>\n",
       "      <td>sit on bed</td>\n",
       "    </tr>\n",
       "    <tr>\n",
       "      <th>34</th>\n",
       "      <td>23.25</td>\n",
       "      <td>0.21340</td>\n",
       "      <td>1.03120</td>\n",
       "      <td>-0.127710</td>\n",
       "      <td>1</td>\n",
       "      <td>-63.5</td>\n",
       "      <td>5.77240</td>\n",
       "      <td>923.75</td>\n",
       "      <td>1</td>\n",
       "      <td>sit on bed</td>\n",
       "    </tr>\n",
       "    <tr>\n",
       "      <th>35</th>\n",
       "      <td>24.50</td>\n",
       "      <td>0.23685</td>\n",
       "      <td>1.01970</td>\n",
       "      <td>-0.104910</td>\n",
       "      <td>1</td>\n",
       "      <td>-62.5</td>\n",
       "      <td>5.66350</td>\n",
       "      <td>920.25</td>\n",
       "      <td>1</td>\n",
       "      <td>sit on bed</td>\n",
       "    </tr>\n",
       "    <tr>\n",
       "      <th>36</th>\n",
       "      <td>26.25</td>\n",
       "      <td>0.23685</td>\n",
       "      <td>1.01970</td>\n",
       "      <td>-0.104910</td>\n",
       "      <td>1</td>\n",
       "      <td>-62.0</td>\n",
       "      <td>4.89340</td>\n",
       "      <td>921.25</td>\n",
       "      <td>1</td>\n",
       "      <td>sit on bed</td>\n",
       "    </tr>\n",
       "    <tr>\n",
       "      <th>37</th>\n",
       "      <td>27.75</td>\n",
       "      <td>0.20168</td>\n",
       "      <td>1.03120</td>\n",
       "      <td>-0.116310</td>\n",
       "      <td>1</td>\n",
       "      <td>-62.5</td>\n",
       "      <td>0.84522</td>\n",
       "      <td>922.25</td>\n",
       "      <td>1</td>\n",
       "      <td>sit on bed</td>\n",
       "    </tr>\n",
       "    <tr>\n",
       "      <th>38</th>\n",
       "      <td>28.50</td>\n",
       "      <td>0.50654</td>\n",
       "      <td>0.91636</td>\n",
       "      <td>0.020525</td>\n",
       "      <td>1</td>\n",
       "      <td>-62.5</td>\n",
       "      <td>1.75180</td>\n",
       "      <td>921.25</td>\n",
       "      <td>1</td>\n",
       "      <td>sit on bed</td>\n",
       "    </tr>\n",
       "    <tr>\n",
       "      <th>39</th>\n",
       "      <td>29.00</td>\n",
       "      <td>0.50654</td>\n",
       "      <td>0.91636</td>\n",
       "      <td>0.020525</td>\n",
       "      <td>1</td>\n",
       "      <td>-62.0</td>\n",
       "      <td>5.32140</td>\n",
       "      <td>920.75</td>\n",
       "      <td>1</td>\n",
       "      <td>sit on bed</td>\n",
       "    </tr>\n",
       "    <tr>\n",
       "      <th>40</th>\n",
       "      <td>29.50</td>\n",
       "      <td>0.50654</td>\n",
       "      <td>0.91636</td>\n",
       "      <td>0.020525</td>\n",
       "      <td>1</td>\n",
       "      <td>-62.5</td>\n",
       "      <td>2.55410</td>\n",
       "      <td>920.25</td>\n",
       "      <td>1</td>\n",
       "      <td>sit on bed</td>\n",
       "    </tr>\n",
       "    <tr>\n",
       "      <th>41</th>\n",
       "      <td>29.75</td>\n",
       "      <td>0.50654</td>\n",
       "      <td>0.91636</td>\n",
       "      <td>0.020525</td>\n",
       "      <td>1</td>\n",
       "      <td>-63.0</td>\n",
       "      <td>6.23410</td>\n",
       "      <td>923.25</td>\n",
       "      <td>1</td>\n",
       "      <td>sit on bed</td>\n",
       "    </tr>\n",
       "    <tr>\n",
       "      <th>42</th>\n",
       "      <td>30.50</td>\n",
       "      <td>0.42446</td>\n",
       "      <td>0.91636</td>\n",
       "      <td>-0.002281</td>\n",
       "      <td>1</td>\n",
       "      <td>-59.5</td>\n",
       "      <td>0.20555</td>\n",
       "      <td>923.75</td>\n",
       "      <td>1</td>\n",
       "      <td>sit on bed</td>\n",
       "    </tr>\n",
       "    <tr>\n",
       "      <th>43</th>\n",
       "      <td>30.75</td>\n",
       "      <td>0.42446</td>\n",
       "      <td>0.91636</td>\n",
       "      <td>-0.002281</td>\n",
       "      <td>1</td>\n",
       "      <td>-58.5</td>\n",
       "      <td>1.28090</td>\n",
       "      <td>922.75</td>\n",
       "      <td>1</td>\n",
       "      <td>sit on bed</td>\n",
       "    </tr>\n",
       "    <tr>\n",
       "      <th>44</th>\n",
       "      <td>31.75</td>\n",
       "      <td>0.24858</td>\n",
       "      <td>1.00820</td>\n",
       "      <td>-0.161920</td>\n",
       "      <td>1</td>\n",
       "      <td>-59.5</td>\n",
       "      <td>6.20040</td>\n",
       "      <td>920.25</td>\n",
       "      <td>1</td>\n",
       "      <td>sit on bed</td>\n",
       "    </tr>\n",
       "    <tr>\n",
       "      <th>45</th>\n",
       "      <td>32.50</td>\n",
       "      <td>0.34238</td>\n",
       "      <td>0.97377</td>\n",
       "      <td>-0.047893</td>\n",
       "      <td>1</td>\n",
       "      <td>-59.5</td>\n",
       "      <td>1.38670</td>\n",
       "      <td>922.25</td>\n",
       "      <td>1</td>\n",
       "      <td>sit on bed</td>\n",
       "    </tr>\n",
       "    <tr>\n",
       "      <th>46</th>\n",
       "      <td>33.00</td>\n",
       "      <td>0.34238</td>\n",
       "      <td>0.97377</td>\n",
       "      <td>-0.047893</td>\n",
       "      <td>1</td>\n",
       "      <td>-61.5</td>\n",
       "      <td>6.23870</td>\n",
       "      <td>923.75</td>\n",
       "      <td>1</td>\n",
       "      <td>sit on bed</td>\n",
       "    </tr>\n",
       "    <tr>\n",
       "      <th>47</th>\n",
       "      <td>33.50</td>\n",
       "      <td>0.30721</td>\n",
       "      <td>0.97377</td>\n",
       "      <td>-0.036490</td>\n",
       "      <td>1</td>\n",
       "      <td>-63.0</td>\n",
       "      <td>1.76710</td>\n",
       "      <td>925.25</td>\n",
       "      <td>1</td>\n",
       "      <td>sit on bed</td>\n",
       "    </tr>\n",
       "    <tr>\n",
       "      <th>48</th>\n",
       "      <td>34.00</td>\n",
       "      <td>0.15478</td>\n",
       "      <td>1.01970</td>\n",
       "      <td>-0.139120</td>\n",
       "      <td>1</td>\n",
       "      <td>-61.5</td>\n",
       "      <td>2.63230</td>\n",
       "      <td>924.25</td>\n",
       "      <td>1</td>\n",
       "      <td>sit on bed</td>\n",
       "    </tr>\n",
       "    <tr>\n",
       "      <th>49</th>\n",
       "      <td>34.50</td>\n",
       "      <td>0.15478</td>\n",
       "      <td>1.01970</td>\n",
       "      <td>-0.139120</td>\n",
       "      <td>1</td>\n",
       "      <td>-60.0</td>\n",
       "      <td>1.80240</td>\n",
       "      <td>921.75</td>\n",
       "      <td>1</td>\n",
       "      <td>sit on bed</td>\n",
       "    </tr>\n",
       "    <tr>\n",
       "      <th>50</th>\n",
       "      <td>35.50</td>\n",
       "      <td>0.56517</td>\n",
       "      <td>0.87042</td>\n",
       "      <td>0.111750</td>\n",
       "      <td>4</td>\n",
       "      <td>-57.0</td>\n",
       "      <td>4.56360</td>\n",
       "      <td>923.75</td>\n",
       "      <td>1</td>\n",
       "      <td>sit on bed</td>\n",
       "    </tr>\n",
       "    <tr>\n",
       "      <th>51</th>\n",
       "      <td>35.60</td>\n",
       "      <td>0.56517</td>\n",
       "      <td>0.87042</td>\n",
       "      <td>0.111750</td>\n",
       "      <td>3</td>\n",
       "      <td>-57.0</td>\n",
       "      <td>6.03770</td>\n",
       "      <td>922.75</td>\n",
       "      <td>1</td>\n",
       "      <td>sit on bed</td>\n",
       "    </tr>\n",
       "    <tr>\n",
       "      <th>52</th>\n",
       "      <td>35.75</td>\n",
       "      <td>0.56517</td>\n",
       "      <td>0.87042</td>\n",
       "      <td>0.111750</td>\n",
       "      <td>1</td>\n",
       "      <td>-65.5</td>\n",
       "      <td>4.54370</td>\n",
       "      <td>922.75</td>\n",
       "      <td>1</td>\n",
       "      <td>sit on bed</td>\n",
       "    </tr>\n",
       "    <tr>\n",
       "      <th>53</th>\n",
       "      <td>36.25</td>\n",
       "      <td>0.56517</td>\n",
       "      <td>0.87042</td>\n",
       "      <td>0.111750</td>\n",
       "      <td>4</td>\n",
       "      <td>-60.0</td>\n",
       "      <td>4.57890</td>\n",
       "      <td>920.75</td>\n",
       "      <td>1</td>\n",
       "      <td>sit on bed</td>\n",
       "    </tr>\n",
       "    <tr>\n",
       "      <th>54</th>\n",
       "      <td>37.00</td>\n",
       "      <td>0.56517</td>\n",
       "      <td>0.87042</td>\n",
       "      <td>0.111750</td>\n",
       "      <td>1</td>\n",
       "      <td>-58.5</td>\n",
       "      <td>1.98500</td>\n",
       "      <td>921.75</td>\n",
       "      <td>1</td>\n",
       "      <td>sit on bed</td>\n",
       "    </tr>\n",
       "    <tr>\n",
       "      <th>172</th>\n",
       "      <td>76.00</td>\n",
       "      <td>0.71760</td>\n",
       "      <td>0.89339</td>\n",
       "      <td>0.043332</td>\n",
       "      <td>1</td>\n",
       "      <td>-59.0</td>\n",
       "      <td>5.73400</td>\n",
       "      <td>923.25</td>\n",
       "      <td>1</td>\n",
       "      <td>sit on bed</td>\n",
       "    </tr>\n",
       "    <tr>\n",
       "      <th>173</th>\n",
       "      <td>76.50</td>\n",
       "      <td>0.71760</td>\n",
       "      <td>0.89339</td>\n",
       "      <td>0.043332</td>\n",
       "      <td>1</td>\n",
       "      <td>-63.0</td>\n",
       "      <td>4.60500</td>\n",
       "      <td>922.25</td>\n",
       "      <td>1</td>\n",
       "      <td>sit on bed</td>\n",
       "    </tr>\n",
       "    <tr>\n",
       "      <th>174</th>\n",
       "      <td>77.25</td>\n",
       "      <td>0.71760</td>\n",
       "      <td>0.89339</td>\n",
       "      <td>0.043332</td>\n",
       "      <td>4</td>\n",
       "      <td>-57.0</td>\n",
       "      <td>0.48627</td>\n",
       "      <td>921.25</td>\n",
       "      <td>1</td>\n",
       "      <td>sit on bed</td>\n",
       "    </tr>\n",
       "    <tr>\n",
       "      <th>175</th>\n",
       "      <td>77.50</td>\n",
       "      <td>0.71760</td>\n",
       "      <td>0.89339</td>\n",
       "      <td>0.043332</td>\n",
       "      <td>4</td>\n",
       "      <td>-58.0</td>\n",
       "      <td>0.25924</td>\n",
       "      <td>925.25</td>\n",
       "      <td>1</td>\n",
       "      <td>sit on bed</td>\n",
       "    </tr>\n",
       "    <tr>\n",
       "      <th>176</th>\n",
       "      <td>77.75</td>\n",
       "      <td>0.71760</td>\n",
       "      <td>0.89339</td>\n",
       "      <td>0.043332</td>\n",
       "      <td>4</td>\n",
       "      <td>-57.5</td>\n",
       "      <td>0.10431</td>\n",
       "      <td>924.25</td>\n",
       "      <td>1</td>\n",
       "      <td>sit on bed</td>\n",
       "    </tr>\n",
       "  </tbody>\n",
       "</table>\n",
       "</div>"
      ],
      "text/plain": [
       "      Time    Acc_X    Acc_Y     Acc_Z  Id  RSSI    Phase    Freq  Label  \\\n",
       "0     0.00  0.27203  1.00820 -0.082102   1 -63.5  2.42520  924.25      1   \n",
       "1     0.50  0.27203  1.00820 -0.082102   1 -63.0  4.73690  921.75      1   \n",
       "2     1.50  0.44791  0.91636 -0.013684   1 -63.5  3.03110  923.75      1   \n",
       "3     1.75  0.44791  0.91636 -0.013684   1 -63.0  2.03710  921.25      1   \n",
       "4     2.50  0.34238  0.96229 -0.059296   1 -63.5  5.89200  920.25      1   \n",
       "5     3.25  0.34238  0.96229 -0.059296   4 -56.5  1.25630  924.75      1   \n",
       "6     4.00  0.30721  0.99674 -0.070699   1 -63.5  3.87180  922.75      1   \n",
       "7     5.00  0.27203  0.99674 -0.093505   1 -64.0  2.49430  924.25      1   \n",
       "8     5.50  0.23685  1.03120 -0.127710   1 -64.5  2.00800  924.75      1   \n",
       "9     6.00  0.23685  1.03120 -0.127710   1 -66.0  1.19040  925.75      1   \n",
       "10    6.50  0.23685  1.03120 -0.127710   1 -63.0  0.61206  922.75      1   \n",
       "11    6.75  0.23685  1.03120 -0.127710   1 -65.0  1.65060  925.25      1   \n",
       "12    7.75  0.31893  0.99674 -0.070699   1 -62.0  4.80750  921.75      1   \n",
       "13    8.00  0.31893  0.99674 -0.070699   4 -56.5  4.52520  924.75      1   \n",
       "14    9.00  0.47136  0.92784 -0.002281   1 -62.5  3.81350  922.75      1   \n",
       "15    9.75  0.40101  0.93932 -0.025087   1 -64.0  2.41300  924.25      1   \n",
       "16   10.00  0.40101  0.93932 -0.025087   1 -62.5  1.53090  921.75      1   \n",
       "17   10.50  0.40101  0.93932 -0.025087   1 -64.5  5.22470  924.75      1   \n",
       "18   10.75  0.40101  0.93932 -0.025087   4 -58.0  0.50468  925.75      1   \n",
       "19   12.00  0.30721  0.99674 -0.070699   1 -64.0  2.46200  924.25      1   \n",
       "20   12.50  0.30721  0.99674 -0.070699   1 -63.0  5.90890  920.25      1   \n",
       "21   13.00  0.30721  0.99674 -0.070699   1 -64.0  1.99260  924.75      1   \n",
       "22   14.00  0.41273  0.93932 -0.002281   1 -62.0  1.92210  921.25      1   \n",
       "23   15.25  0.27203  1.00820 -0.104910   4 -57.0  1.37140  924.75      1   \n",
       "24   15.50  0.27203  1.00820 -0.104910   1 -62.0  1.08450  922.25      1   \n",
       "25   16.50  0.24858  1.03120 -0.093505   1 -65.0  4.56970  925.25      1   \n",
       "26   17.50  0.26030  1.01970 -0.104910   1 -62.5  1.50640  921.75      1   \n",
       "27   18.50  0.31893  0.99674 -0.070699   1 -64.0  5.99630  923.75      1   \n",
       "28   18.75  0.31893  0.99674 -0.070699   1 -62.0  1.92050  921.25      1   \n",
       "29   19.25  0.31893  0.99674 -0.070699   1 -62.5  2.27640  920.75      1   \n",
       "30   20.00  0.43619  0.91636  0.009122   1 -63.0  6.26630  923.25      1   \n",
       "31   21.00  0.47136  0.92784  0.020525   1 -64.0  2.85320  923.75      1   \n",
       "32   22.75  0.21340  1.03120 -0.127710   1 -64.5  4.90870  924.75      1   \n",
       "33   23.00  0.21340  1.03120 -0.127710   4 -57.5  0.54763  925.75      1   \n",
       "34   23.25  0.21340  1.03120 -0.127710   1 -63.5  5.77240  923.75      1   \n",
       "35   24.50  0.23685  1.01970 -0.104910   1 -62.5  5.66350  920.25      1   \n",
       "36   26.25  0.23685  1.01970 -0.104910   1 -62.0  4.89340  921.25      1   \n",
       "37   27.75  0.20168  1.03120 -0.116310   1 -62.5  0.84522  922.25      1   \n",
       "38   28.50  0.50654  0.91636  0.020525   1 -62.5  1.75180  921.25      1   \n",
       "39   29.00  0.50654  0.91636  0.020525   1 -62.0  5.32140  920.75      1   \n",
       "40   29.50  0.50654  0.91636  0.020525   1 -62.5  2.55410  920.25      1   \n",
       "41   29.75  0.50654  0.91636  0.020525   1 -63.0  6.23410  923.25      1   \n",
       "42   30.50  0.42446  0.91636 -0.002281   1 -59.5  0.20555  923.75      1   \n",
       "43   30.75  0.42446  0.91636 -0.002281   1 -58.5  1.28090  922.75      1   \n",
       "44   31.75  0.24858  1.00820 -0.161920   1 -59.5  6.20040  920.25      1   \n",
       "45   32.50  0.34238  0.97377 -0.047893   1 -59.5  1.38670  922.25      1   \n",
       "46   33.00  0.34238  0.97377 -0.047893   1 -61.5  6.23870  923.75      1   \n",
       "47   33.50  0.30721  0.97377 -0.036490   1 -63.0  1.76710  925.25      1   \n",
       "48   34.00  0.15478  1.01970 -0.139120   1 -61.5  2.63230  924.25      1   \n",
       "49   34.50  0.15478  1.01970 -0.139120   1 -60.0  1.80240  921.75      1   \n",
       "50   35.50  0.56517  0.87042  0.111750   4 -57.0  4.56360  923.75      1   \n",
       "51   35.60  0.56517  0.87042  0.111750   3 -57.0  6.03770  922.75      1   \n",
       "52   35.75  0.56517  0.87042  0.111750   1 -65.5  4.54370  922.75      1   \n",
       "53   36.25  0.56517  0.87042  0.111750   4 -60.0  4.57890  920.75      1   \n",
       "54   37.00  0.56517  0.87042  0.111750   1 -58.5  1.98500  921.75      1   \n",
       "172  76.00  0.71760  0.89339  0.043332   1 -59.0  5.73400  923.25      1   \n",
       "173  76.50  0.71760  0.89339  0.043332   1 -63.0  4.60500  922.25      1   \n",
       "174  77.25  0.71760  0.89339  0.043332   4 -57.0  0.48627  921.25      1   \n",
       "175  77.50  0.71760  0.89339  0.043332   4 -58.0  0.25924  925.25      1   \n",
       "176  77.75  0.71760  0.89339  0.043332   4 -57.5  0.10431  924.25      1   \n",
       "\n",
       "      Label_act  \n",
       "0    sit on bed  \n",
       "1    sit on bed  \n",
       "2    sit on bed  \n",
       "3    sit on bed  \n",
       "4    sit on bed  \n",
       "5    sit on bed  \n",
       "6    sit on bed  \n",
       "7    sit on bed  \n",
       "8    sit on bed  \n",
       "9    sit on bed  \n",
       "10   sit on bed  \n",
       "11   sit on bed  \n",
       "12   sit on bed  \n",
       "13   sit on bed  \n",
       "14   sit on bed  \n",
       "15   sit on bed  \n",
       "16   sit on bed  \n",
       "17   sit on bed  \n",
       "18   sit on bed  \n",
       "19   sit on bed  \n",
       "20   sit on bed  \n",
       "21   sit on bed  \n",
       "22   sit on bed  \n",
       "23   sit on bed  \n",
       "24   sit on bed  \n",
       "25   sit on bed  \n",
       "26   sit on bed  \n",
       "27   sit on bed  \n",
       "28   sit on bed  \n",
       "29   sit on bed  \n",
       "30   sit on bed  \n",
       "31   sit on bed  \n",
       "32   sit on bed  \n",
       "33   sit on bed  \n",
       "34   sit on bed  \n",
       "35   sit on bed  \n",
       "36   sit on bed  \n",
       "37   sit on bed  \n",
       "38   sit on bed  \n",
       "39   sit on bed  \n",
       "40   sit on bed  \n",
       "41   sit on bed  \n",
       "42   sit on bed  \n",
       "43   sit on bed  \n",
       "44   sit on bed  \n",
       "45   sit on bed  \n",
       "46   sit on bed  \n",
       "47   sit on bed  \n",
       "48   sit on bed  \n",
       "49   sit on bed  \n",
       "50   sit on bed  \n",
       "51   sit on bed  \n",
       "52   sit on bed  \n",
       "53   sit on bed  \n",
       "54   sit on bed  \n",
       "172  sit on bed  \n",
       "173  sit on bed  \n",
       "174  sit on bed  \n",
       "175  sit on bed  \n",
       "176  sit on bed  "
      ]
     },
     "execution_count": 111,
     "metadata": {},
     "output_type": "execute_result"
    }
   ],
   "source": [
    "df[df['Label_act'] == 'sit on bed'].head(60)"
   ]
  },
  {
   "cell_type": "code",
   "execution_count": 124,
   "metadata": {},
   "outputs": [
    {
     "data": {
      "application/vnd.plotly.v1+json": {
       "config": {
        "linkText": "Export to plot.ly",
        "plotlyServerURL": "https://plot.ly",
        "showLink": true
       },
       "data": [
        {
         "line": {
          "color": "rgba(255, 153, 51, 1.0)",
          "dash": "solid",
          "shape": "linear",
          "width": 1.3
         },
         "mode": "lines",
         "name": "Acc_X",
         "text": "",
         "type": "scatter",
         "x": [
          0,
          0.5,
          1.5,
          1.75,
          2.5,
          3.25,
          4,
          5,
          5.5,
          6,
          6.5,
          6.75,
          7.75,
          8,
          9,
          9.75,
          10,
          10.5,
          10.75,
          12,
          12.5,
          13,
          14,
          15.25,
          15.5,
          16.5,
          17.5,
          18.5,
          18.75,
          19.25,
          20,
          21,
          22.75,
          23,
          23.25,
          24.5,
          26.25,
          27.75,
          28.5,
          29,
          29.5,
          29.75,
          30.5,
          30.75,
          31.75,
          32.5,
          33,
          33.5,
          34,
          34.5,
          35.5,
          35.6,
          35.75,
          36.25
         ],
         "y": [
          0.27203,
          0.27203,
          0.44791,
          0.44791,
          0.34238,
          0.34238,
          0.30721,
          0.27203,
          0.23685,
          0.23685,
          0.23685,
          0.23685,
          0.31893,
          0.31893,
          0.47136,
          0.40101,
          0.40101,
          0.40101,
          0.40101,
          0.30721,
          0.30721,
          0.30721,
          0.41273,
          0.27203,
          0.27203,
          0.24858,
          0.2603,
          0.31893,
          0.31893,
          0.31893,
          0.43619,
          0.47136,
          0.2134,
          0.2134,
          0.2134,
          0.23685,
          0.23685,
          0.20168,
          0.50654,
          0.50654,
          0.50654,
          0.50654,
          0.42446,
          0.42446,
          0.24858,
          0.34238,
          0.34238,
          0.30721,
          0.15478,
          0.15478,
          0.56517,
          0.56517,
          0.56517,
          0.56517
         ]
        }
       ],
       "layout": {
        "legend": {
         "bgcolor": "#F5F6F9",
         "font": {
          "color": "#4D5663"
         }
        },
        "paper_bgcolor": "#F5F6F9",
        "plot_bgcolor": "#F5F6F9",
        "template": {
         "data": {
          "bar": [
           {
            "error_x": {
             "color": "#2a3f5f"
            },
            "error_y": {
             "color": "#2a3f5f"
            },
            "marker": {
             "line": {
              "color": "#E5ECF6",
              "width": 0.5
             },
             "pattern": {
              "fillmode": "overlay",
              "size": 10,
              "solidity": 0.2
             }
            },
            "type": "bar"
           }
          ],
          "barpolar": [
           {
            "marker": {
             "line": {
              "color": "#E5ECF6",
              "width": 0.5
             },
             "pattern": {
              "fillmode": "overlay",
              "size": 10,
              "solidity": 0.2
             }
            },
            "type": "barpolar"
           }
          ],
          "carpet": [
           {
            "aaxis": {
             "endlinecolor": "#2a3f5f",
             "gridcolor": "white",
             "linecolor": "white",
             "minorgridcolor": "white",
             "startlinecolor": "#2a3f5f"
            },
            "baxis": {
             "endlinecolor": "#2a3f5f",
             "gridcolor": "white",
             "linecolor": "white",
             "minorgridcolor": "white",
             "startlinecolor": "#2a3f5f"
            },
            "type": "carpet"
           }
          ],
          "choropleth": [
           {
            "colorbar": {
             "outlinewidth": 0,
             "ticks": ""
            },
            "type": "choropleth"
           }
          ],
          "contour": [
           {
            "colorbar": {
             "outlinewidth": 0,
             "ticks": ""
            },
            "colorscale": [
             [
              0,
              "#0d0887"
             ],
             [
              0.1111111111111111,
              "#46039f"
             ],
             [
              0.2222222222222222,
              "#7201a8"
             ],
             [
              0.3333333333333333,
              "#9c179e"
             ],
             [
              0.4444444444444444,
              "#bd3786"
             ],
             [
              0.5555555555555556,
              "#d8576b"
             ],
             [
              0.6666666666666666,
              "#ed7953"
             ],
             [
              0.7777777777777778,
              "#fb9f3a"
             ],
             [
              0.8888888888888888,
              "#fdca26"
             ],
             [
              1,
              "#f0f921"
             ]
            ],
            "type": "contour"
           }
          ],
          "contourcarpet": [
           {
            "colorbar": {
             "outlinewidth": 0,
             "ticks": ""
            },
            "type": "contourcarpet"
           }
          ],
          "heatmap": [
           {
            "colorbar": {
             "outlinewidth": 0,
             "ticks": ""
            },
            "colorscale": [
             [
              0,
              "#0d0887"
             ],
             [
              0.1111111111111111,
              "#46039f"
             ],
             [
              0.2222222222222222,
              "#7201a8"
             ],
             [
              0.3333333333333333,
              "#9c179e"
             ],
             [
              0.4444444444444444,
              "#bd3786"
             ],
             [
              0.5555555555555556,
              "#d8576b"
             ],
             [
              0.6666666666666666,
              "#ed7953"
             ],
             [
              0.7777777777777778,
              "#fb9f3a"
             ],
             [
              0.8888888888888888,
              "#fdca26"
             ],
             [
              1,
              "#f0f921"
             ]
            ],
            "type": "heatmap"
           }
          ],
          "heatmapgl": [
           {
            "colorbar": {
             "outlinewidth": 0,
             "ticks": ""
            },
            "colorscale": [
             [
              0,
              "#0d0887"
             ],
             [
              0.1111111111111111,
              "#46039f"
             ],
             [
              0.2222222222222222,
              "#7201a8"
             ],
             [
              0.3333333333333333,
              "#9c179e"
             ],
             [
              0.4444444444444444,
              "#bd3786"
             ],
             [
              0.5555555555555556,
              "#d8576b"
             ],
             [
              0.6666666666666666,
              "#ed7953"
             ],
             [
              0.7777777777777778,
              "#fb9f3a"
             ],
             [
              0.8888888888888888,
              "#fdca26"
             ],
             [
              1,
              "#f0f921"
             ]
            ],
            "type": "heatmapgl"
           }
          ],
          "histogram": [
           {
            "marker": {
             "pattern": {
              "fillmode": "overlay",
              "size": 10,
              "solidity": 0.2
             }
            },
            "type": "histogram"
           }
          ],
          "histogram2d": [
           {
            "colorbar": {
             "outlinewidth": 0,
             "ticks": ""
            },
            "colorscale": [
             [
              0,
              "#0d0887"
             ],
             [
              0.1111111111111111,
              "#46039f"
             ],
             [
              0.2222222222222222,
              "#7201a8"
             ],
             [
              0.3333333333333333,
              "#9c179e"
             ],
             [
              0.4444444444444444,
              "#bd3786"
             ],
             [
              0.5555555555555556,
              "#d8576b"
             ],
             [
              0.6666666666666666,
              "#ed7953"
             ],
             [
              0.7777777777777778,
              "#fb9f3a"
             ],
             [
              0.8888888888888888,
              "#fdca26"
             ],
             [
              1,
              "#f0f921"
             ]
            ],
            "type": "histogram2d"
           }
          ],
          "histogram2dcontour": [
           {
            "colorbar": {
             "outlinewidth": 0,
             "ticks": ""
            },
            "colorscale": [
             [
              0,
              "#0d0887"
             ],
             [
              0.1111111111111111,
              "#46039f"
             ],
             [
              0.2222222222222222,
              "#7201a8"
             ],
             [
              0.3333333333333333,
              "#9c179e"
             ],
             [
              0.4444444444444444,
              "#bd3786"
             ],
             [
              0.5555555555555556,
              "#d8576b"
             ],
             [
              0.6666666666666666,
              "#ed7953"
             ],
             [
              0.7777777777777778,
              "#fb9f3a"
             ],
             [
              0.8888888888888888,
              "#fdca26"
             ],
             [
              1,
              "#f0f921"
             ]
            ],
            "type": "histogram2dcontour"
           }
          ],
          "mesh3d": [
           {
            "colorbar": {
             "outlinewidth": 0,
             "ticks": ""
            },
            "type": "mesh3d"
           }
          ],
          "parcoords": [
           {
            "line": {
             "colorbar": {
              "outlinewidth": 0,
              "ticks": ""
             }
            },
            "type": "parcoords"
           }
          ],
          "pie": [
           {
            "automargin": true,
            "type": "pie"
           }
          ],
          "scatter": [
           {
            "fillpattern": {
             "fillmode": "overlay",
             "size": 10,
             "solidity": 0.2
            },
            "type": "scatter"
           }
          ],
          "scatter3d": [
           {
            "line": {
             "colorbar": {
              "outlinewidth": 0,
              "ticks": ""
             }
            },
            "marker": {
             "colorbar": {
              "outlinewidth": 0,
              "ticks": ""
             }
            },
            "type": "scatter3d"
           }
          ],
          "scattercarpet": [
           {
            "marker": {
             "colorbar": {
              "outlinewidth": 0,
              "ticks": ""
             }
            },
            "type": "scattercarpet"
           }
          ],
          "scattergeo": [
           {
            "marker": {
             "colorbar": {
              "outlinewidth": 0,
              "ticks": ""
             }
            },
            "type": "scattergeo"
           }
          ],
          "scattergl": [
           {
            "marker": {
             "colorbar": {
              "outlinewidth": 0,
              "ticks": ""
             }
            },
            "type": "scattergl"
           }
          ],
          "scattermapbox": [
           {
            "marker": {
             "colorbar": {
              "outlinewidth": 0,
              "ticks": ""
             }
            },
            "type": "scattermapbox"
           }
          ],
          "scatterpolar": [
           {
            "marker": {
             "colorbar": {
              "outlinewidth": 0,
              "ticks": ""
             }
            },
            "type": "scatterpolar"
           }
          ],
          "scatterpolargl": [
           {
            "marker": {
             "colorbar": {
              "outlinewidth": 0,
              "ticks": ""
             }
            },
            "type": "scatterpolargl"
           }
          ],
          "scatterternary": [
           {
            "marker": {
             "colorbar": {
              "outlinewidth": 0,
              "ticks": ""
             }
            },
            "type": "scatterternary"
           }
          ],
          "surface": [
           {
            "colorbar": {
             "outlinewidth": 0,
             "ticks": ""
            },
            "colorscale": [
             [
              0,
              "#0d0887"
             ],
             [
              0.1111111111111111,
              "#46039f"
             ],
             [
              0.2222222222222222,
              "#7201a8"
             ],
             [
              0.3333333333333333,
              "#9c179e"
             ],
             [
              0.4444444444444444,
              "#bd3786"
             ],
             [
              0.5555555555555556,
              "#d8576b"
             ],
             [
              0.6666666666666666,
              "#ed7953"
             ],
             [
              0.7777777777777778,
              "#fb9f3a"
             ],
             [
              0.8888888888888888,
              "#fdca26"
             ],
             [
              1,
              "#f0f921"
             ]
            ],
            "type": "surface"
           }
          ],
          "table": [
           {
            "cells": {
             "fill": {
              "color": "#EBF0F8"
             },
             "line": {
              "color": "white"
             }
            },
            "header": {
             "fill": {
              "color": "#C8D4E3"
             },
             "line": {
              "color": "white"
             }
            },
            "type": "table"
           }
          ]
         },
         "layout": {
          "annotationdefaults": {
           "arrowcolor": "#2a3f5f",
           "arrowhead": 0,
           "arrowwidth": 1
          },
          "autotypenumbers": "strict",
          "coloraxis": {
           "colorbar": {
            "outlinewidth": 0,
            "ticks": ""
           }
          },
          "colorscale": {
           "diverging": [
            [
             0,
             "#8e0152"
            ],
            [
             0.1,
             "#c51b7d"
            ],
            [
             0.2,
             "#de77ae"
            ],
            [
             0.3,
             "#f1b6da"
            ],
            [
             0.4,
             "#fde0ef"
            ],
            [
             0.5,
             "#f7f7f7"
            ],
            [
             0.6,
             "#e6f5d0"
            ],
            [
             0.7,
             "#b8e186"
            ],
            [
             0.8,
             "#7fbc41"
            ],
            [
             0.9,
             "#4d9221"
            ],
            [
             1,
             "#276419"
            ]
           ],
           "sequential": [
            [
             0,
             "#0d0887"
            ],
            [
             0.1111111111111111,
             "#46039f"
            ],
            [
             0.2222222222222222,
             "#7201a8"
            ],
            [
             0.3333333333333333,
             "#9c179e"
            ],
            [
             0.4444444444444444,
             "#bd3786"
            ],
            [
             0.5555555555555556,
             "#d8576b"
            ],
            [
             0.6666666666666666,
             "#ed7953"
            ],
            [
             0.7777777777777778,
             "#fb9f3a"
            ],
            [
             0.8888888888888888,
             "#fdca26"
            ],
            [
             1,
             "#f0f921"
            ]
           ],
           "sequentialminus": [
            [
             0,
             "#0d0887"
            ],
            [
             0.1111111111111111,
             "#46039f"
            ],
            [
             0.2222222222222222,
             "#7201a8"
            ],
            [
             0.3333333333333333,
             "#9c179e"
            ],
            [
             0.4444444444444444,
             "#bd3786"
            ],
            [
             0.5555555555555556,
             "#d8576b"
            ],
            [
             0.6666666666666666,
             "#ed7953"
            ],
            [
             0.7777777777777778,
             "#fb9f3a"
            ],
            [
             0.8888888888888888,
             "#fdca26"
            ],
            [
             1,
             "#f0f921"
            ]
           ]
          },
          "colorway": [
           "#636efa",
           "#EF553B",
           "#00cc96",
           "#ab63fa",
           "#FFA15A",
           "#19d3f3",
           "#FF6692",
           "#B6E880",
           "#FF97FF",
           "#FECB52"
          ],
          "font": {
           "color": "#2a3f5f"
          },
          "geo": {
           "bgcolor": "white",
           "lakecolor": "white",
           "landcolor": "#E5ECF6",
           "showlakes": true,
           "showland": true,
           "subunitcolor": "white"
          },
          "hoverlabel": {
           "align": "left"
          },
          "hovermode": "closest",
          "mapbox": {
           "style": "light"
          },
          "paper_bgcolor": "white",
          "plot_bgcolor": "#E5ECF6",
          "polar": {
           "angularaxis": {
            "gridcolor": "white",
            "linecolor": "white",
            "ticks": ""
           },
           "bgcolor": "#E5ECF6",
           "radialaxis": {
            "gridcolor": "white",
            "linecolor": "white",
            "ticks": ""
           }
          },
          "scene": {
           "xaxis": {
            "backgroundcolor": "#E5ECF6",
            "gridcolor": "white",
            "gridwidth": 2,
            "linecolor": "white",
            "showbackground": true,
            "ticks": "",
            "zerolinecolor": "white"
           },
           "yaxis": {
            "backgroundcolor": "#E5ECF6",
            "gridcolor": "white",
            "gridwidth": 2,
            "linecolor": "white",
            "showbackground": true,
            "ticks": "",
            "zerolinecolor": "white"
           },
           "zaxis": {
            "backgroundcolor": "#E5ECF6",
            "gridcolor": "white",
            "gridwidth": 2,
            "linecolor": "white",
            "showbackground": true,
            "ticks": "",
            "zerolinecolor": "white"
           }
          },
          "shapedefaults": {
           "line": {
            "color": "#2a3f5f"
           }
          },
          "ternary": {
           "aaxis": {
            "gridcolor": "white",
            "linecolor": "white",
            "ticks": ""
           },
           "baxis": {
            "gridcolor": "white",
            "linecolor": "white",
            "ticks": ""
           },
           "bgcolor": "#E5ECF6",
           "caxis": {
            "gridcolor": "white",
            "linecolor": "white",
            "ticks": ""
           }
          },
          "title": {
           "x": 0.05
          },
          "xaxis": {
           "automargin": true,
           "gridcolor": "white",
           "linecolor": "white",
           "ticks": "",
           "title": {
            "standoff": 15
           },
           "zerolinecolor": "white",
           "zerolinewidth": 2
          },
          "yaxis": {
           "automargin": true,
           "gridcolor": "white",
           "linecolor": "white",
           "ticks": "",
           "title": {
            "standoff": 15
           },
           "zerolinecolor": "white",
           "zerolinewidth": 2
          }
         }
        },
        "title": {
         "font": {
          "color": "#4D5663"
         }
        },
        "xaxis": {
         "gridcolor": "#E1E5ED",
         "showgrid": true,
         "tickfont": {
          "color": "#4D5663"
         },
         "title": {
          "font": {
           "color": "#4D5663"
          },
          "text": ""
         },
         "zerolinecolor": "#E1E5ED"
        },
        "yaxis": {
         "gridcolor": "#E1E5ED",
         "showgrid": true,
         "tickfont": {
          "color": "#4D5663"
         },
         "title": {
          "font": {
           "color": "#4D5663"
          },
          "text": ""
         },
         "zerolinecolor": "#E1E5ED"
        }
       }
      },
      "text/html": [
       "<div>                            <div id=\"03d674e6-40c6-4be9-a042-0b0e098e0ce3\" class=\"plotly-graph-div\" style=\"height:525px; width:100%;\"></div>            <script type=\"text/javascript\">                require([\"plotly\"], function(Plotly) {                    window.PLOTLYENV=window.PLOTLYENV || {};\n",
       "                    window.PLOTLYENV.BASE_URL='https://plot.ly';                                    if (document.getElementById(\"03d674e6-40c6-4be9-a042-0b0e098e0ce3\")) {                    Plotly.newPlot(                        \"03d674e6-40c6-4be9-a042-0b0e098e0ce3\",                        [{\"line\":{\"color\":\"rgba(255, 153, 51, 1.0)\",\"dash\":\"solid\",\"shape\":\"linear\",\"width\":1.3},\"mode\":\"lines\",\"name\":\"Acc_X\",\"text\":\"\",\"x\":[0.0,0.5,1.5,1.75,2.5,3.25,4.0,5.0,5.5,6.0,6.5,6.75,7.75,8.0,9.0,9.75,10.0,10.5,10.75,12.0,12.5,13.0,14.0,15.25,15.5,16.5,17.5,18.5,18.75,19.25,20.0,21.0,22.75,23.0,23.25,24.5,26.25,27.75,28.5,29.0,29.5,29.75,30.5,30.75,31.75,32.5,33.0,33.5,34.0,34.5,35.5,35.6,35.75,36.25],\"y\":[0.27203,0.27203,0.44791,0.44791,0.34238,0.34238,0.30721,0.27203,0.23685,0.23685,0.23685,0.23685,0.31893,0.31893,0.47136,0.40101,0.40101,0.40101,0.40101,0.30721,0.30721,0.30721,0.41273,0.27203,0.27203,0.24858,0.2603,0.31893,0.31893,0.31893,0.43619,0.47136,0.2134,0.2134,0.2134,0.23685,0.23685,0.20168,0.50654,0.50654,0.50654,0.50654,0.42446,0.42446,0.24858,0.34238,0.34238,0.30721,0.15478,0.15478,0.56517,0.56517,0.56517,0.56517],\"type\":\"scatter\"}],                        {\"legend\":{\"bgcolor\":\"#F5F6F9\",\"font\":{\"color\":\"#4D5663\"}},\"paper_bgcolor\":\"#F5F6F9\",\"plot_bgcolor\":\"#F5F6F9\",\"template\":{\"data\":{\"barpolar\":[{\"marker\":{\"line\":{\"color\":\"#E5ECF6\",\"width\":0.5},\"pattern\":{\"fillmode\":\"overlay\",\"size\":10,\"solidity\":0.2}},\"type\":\"barpolar\"}],\"bar\":[{\"error_x\":{\"color\":\"#2a3f5f\"},\"error_y\":{\"color\":\"#2a3f5f\"},\"marker\":{\"line\":{\"color\":\"#E5ECF6\",\"width\":0.5},\"pattern\":{\"fillmode\":\"overlay\",\"size\":10,\"solidity\":0.2}},\"type\":\"bar\"}],\"carpet\":[{\"aaxis\":{\"endlinecolor\":\"#2a3f5f\",\"gridcolor\":\"white\",\"linecolor\":\"white\",\"minorgridcolor\":\"white\",\"startlinecolor\":\"#2a3f5f\"},\"baxis\":{\"endlinecolor\":\"#2a3f5f\",\"gridcolor\":\"white\",\"linecolor\":\"white\",\"minorgridcolor\":\"white\",\"startlinecolor\":\"#2a3f5f\"},\"type\":\"carpet\"}],\"choropleth\":[{\"colorbar\":{\"outlinewidth\":0,\"ticks\":\"\"},\"type\":\"choropleth\"}],\"contourcarpet\":[{\"colorbar\":{\"outlinewidth\":0,\"ticks\":\"\"},\"type\":\"contourcarpet\"}],\"contour\":[{\"colorbar\":{\"outlinewidth\":0,\"ticks\":\"\"},\"colorscale\":[[0.0,\"#0d0887\"],[0.1111111111111111,\"#46039f\"],[0.2222222222222222,\"#7201a8\"],[0.3333333333333333,\"#9c179e\"],[0.4444444444444444,\"#bd3786\"],[0.5555555555555556,\"#d8576b\"],[0.6666666666666666,\"#ed7953\"],[0.7777777777777778,\"#fb9f3a\"],[0.8888888888888888,\"#fdca26\"],[1.0,\"#f0f921\"]],\"type\":\"contour\"}],\"heatmapgl\":[{\"colorbar\":{\"outlinewidth\":0,\"ticks\":\"\"},\"colorscale\":[[0.0,\"#0d0887\"],[0.1111111111111111,\"#46039f\"],[0.2222222222222222,\"#7201a8\"],[0.3333333333333333,\"#9c179e\"],[0.4444444444444444,\"#bd3786\"],[0.5555555555555556,\"#d8576b\"],[0.6666666666666666,\"#ed7953\"],[0.7777777777777778,\"#fb9f3a\"],[0.8888888888888888,\"#fdca26\"],[1.0,\"#f0f921\"]],\"type\":\"heatmapgl\"}],\"heatmap\":[{\"colorbar\":{\"outlinewidth\":0,\"ticks\":\"\"},\"colorscale\":[[0.0,\"#0d0887\"],[0.1111111111111111,\"#46039f\"],[0.2222222222222222,\"#7201a8\"],[0.3333333333333333,\"#9c179e\"],[0.4444444444444444,\"#bd3786\"],[0.5555555555555556,\"#d8576b\"],[0.6666666666666666,\"#ed7953\"],[0.7777777777777778,\"#fb9f3a\"],[0.8888888888888888,\"#fdca26\"],[1.0,\"#f0f921\"]],\"type\":\"heatmap\"}],\"histogram2dcontour\":[{\"colorbar\":{\"outlinewidth\":0,\"ticks\":\"\"},\"colorscale\":[[0.0,\"#0d0887\"],[0.1111111111111111,\"#46039f\"],[0.2222222222222222,\"#7201a8\"],[0.3333333333333333,\"#9c179e\"],[0.4444444444444444,\"#bd3786\"],[0.5555555555555556,\"#d8576b\"],[0.6666666666666666,\"#ed7953\"],[0.7777777777777778,\"#fb9f3a\"],[0.8888888888888888,\"#fdca26\"],[1.0,\"#f0f921\"]],\"type\":\"histogram2dcontour\"}],\"histogram2d\":[{\"colorbar\":{\"outlinewidth\":0,\"ticks\":\"\"},\"colorscale\":[[0.0,\"#0d0887\"],[0.1111111111111111,\"#46039f\"],[0.2222222222222222,\"#7201a8\"],[0.3333333333333333,\"#9c179e\"],[0.4444444444444444,\"#bd3786\"],[0.5555555555555556,\"#d8576b\"],[0.6666666666666666,\"#ed7953\"],[0.7777777777777778,\"#fb9f3a\"],[0.8888888888888888,\"#fdca26\"],[1.0,\"#f0f921\"]],\"type\":\"histogram2d\"}],\"histogram\":[{\"marker\":{\"pattern\":{\"fillmode\":\"overlay\",\"size\":10,\"solidity\":0.2}},\"type\":\"histogram\"}],\"mesh3d\":[{\"colorbar\":{\"outlinewidth\":0,\"ticks\":\"\"},\"type\":\"mesh3d\"}],\"parcoords\":[{\"line\":{\"colorbar\":{\"outlinewidth\":0,\"ticks\":\"\"}},\"type\":\"parcoords\"}],\"pie\":[{\"automargin\":true,\"type\":\"pie\"}],\"scatter3d\":[{\"line\":{\"colorbar\":{\"outlinewidth\":0,\"ticks\":\"\"}},\"marker\":{\"colorbar\":{\"outlinewidth\":0,\"ticks\":\"\"}},\"type\":\"scatter3d\"}],\"scattercarpet\":[{\"marker\":{\"colorbar\":{\"outlinewidth\":0,\"ticks\":\"\"}},\"type\":\"scattercarpet\"}],\"scattergeo\":[{\"marker\":{\"colorbar\":{\"outlinewidth\":0,\"ticks\":\"\"}},\"type\":\"scattergeo\"}],\"scattergl\":[{\"marker\":{\"colorbar\":{\"outlinewidth\":0,\"ticks\":\"\"}},\"type\":\"scattergl\"}],\"scattermapbox\":[{\"marker\":{\"colorbar\":{\"outlinewidth\":0,\"ticks\":\"\"}},\"type\":\"scattermapbox\"}],\"scatterpolargl\":[{\"marker\":{\"colorbar\":{\"outlinewidth\":0,\"ticks\":\"\"}},\"type\":\"scatterpolargl\"}],\"scatterpolar\":[{\"marker\":{\"colorbar\":{\"outlinewidth\":0,\"ticks\":\"\"}},\"type\":\"scatterpolar\"}],\"scatter\":[{\"fillpattern\":{\"fillmode\":\"overlay\",\"size\":10,\"solidity\":0.2},\"type\":\"scatter\"}],\"scatterternary\":[{\"marker\":{\"colorbar\":{\"outlinewidth\":0,\"ticks\":\"\"}},\"type\":\"scatterternary\"}],\"surface\":[{\"colorbar\":{\"outlinewidth\":0,\"ticks\":\"\"},\"colorscale\":[[0.0,\"#0d0887\"],[0.1111111111111111,\"#46039f\"],[0.2222222222222222,\"#7201a8\"],[0.3333333333333333,\"#9c179e\"],[0.4444444444444444,\"#bd3786\"],[0.5555555555555556,\"#d8576b\"],[0.6666666666666666,\"#ed7953\"],[0.7777777777777778,\"#fb9f3a\"],[0.8888888888888888,\"#fdca26\"],[1.0,\"#f0f921\"]],\"type\":\"surface\"}],\"table\":[{\"cells\":{\"fill\":{\"color\":\"#EBF0F8\"},\"line\":{\"color\":\"white\"}},\"header\":{\"fill\":{\"color\":\"#C8D4E3\"},\"line\":{\"color\":\"white\"}},\"type\":\"table\"}]},\"layout\":{\"annotationdefaults\":{\"arrowcolor\":\"#2a3f5f\",\"arrowhead\":0,\"arrowwidth\":1},\"autotypenumbers\":\"strict\",\"coloraxis\":{\"colorbar\":{\"outlinewidth\":0,\"ticks\":\"\"}},\"colorscale\":{\"diverging\":[[0,\"#8e0152\"],[0.1,\"#c51b7d\"],[0.2,\"#de77ae\"],[0.3,\"#f1b6da\"],[0.4,\"#fde0ef\"],[0.5,\"#f7f7f7\"],[0.6,\"#e6f5d0\"],[0.7,\"#b8e186\"],[0.8,\"#7fbc41\"],[0.9,\"#4d9221\"],[1,\"#276419\"]],\"sequential\":[[0.0,\"#0d0887\"],[0.1111111111111111,\"#46039f\"],[0.2222222222222222,\"#7201a8\"],[0.3333333333333333,\"#9c179e\"],[0.4444444444444444,\"#bd3786\"],[0.5555555555555556,\"#d8576b\"],[0.6666666666666666,\"#ed7953\"],[0.7777777777777778,\"#fb9f3a\"],[0.8888888888888888,\"#fdca26\"],[1.0,\"#f0f921\"]],\"sequentialminus\":[[0.0,\"#0d0887\"],[0.1111111111111111,\"#46039f\"],[0.2222222222222222,\"#7201a8\"],[0.3333333333333333,\"#9c179e\"],[0.4444444444444444,\"#bd3786\"],[0.5555555555555556,\"#d8576b\"],[0.6666666666666666,\"#ed7953\"],[0.7777777777777778,\"#fb9f3a\"],[0.8888888888888888,\"#fdca26\"],[1.0,\"#f0f921\"]]},\"colorway\":[\"#636efa\",\"#EF553B\",\"#00cc96\",\"#ab63fa\",\"#FFA15A\",\"#19d3f3\",\"#FF6692\",\"#B6E880\",\"#FF97FF\",\"#FECB52\"],\"font\":{\"color\":\"#2a3f5f\"},\"geo\":{\"bgcolor\":\"white\",\"lakecolor\":\"white\",\"landcolor\":\"#E5ECF6\",\"showlakes\":true,\"showland\":true,\"subunitcolor\":\"white\"},\"hoverlabel\":{\"align\":\"left\"},\"hovermode\":\"closest\",\"mapbox\":{\"style\":\"light\"},\"paper_bgcolor\":\"white\",\"plot_bgcolor\":\"#E5ECF6\",\"polar\":{\"angularaxis\":{\"gridcolor\":\"white\",\"linecolor\":\"white\",\"ticks\":\"\"},\"bgcolor\":\"#E5ECF6\",\"radialaxis\":{\"gridcolor\":\"white\",\"linecolor\":\"white\",\"ticks\":\"\"}},\"scene\":{\"xaxis\":{\"backgroundcolor\":\"#E5ECF6\",\"gridcolor\":\"white\",\"gridwidth\":2,\"linecolor\":\"white\",\"showbackground\":true,\"ticks\":\"\",\"zerolinecolor\":\"white\"},\"yaxis\":{\"backgroundcolor\":\"#E5ECF6\",\"gridcolor\":\"white\",\"gridwidth\":2,\"linecolor\":\"white\",\"showbackground\":true,\"ticks\":\"\",\"zerolinecolor\":\"white\"},\"zaxis\":{\"backgroundcolor\":\"#E5ECF6\",\"gridcolor\":\"white\",\"gridwidth\":2,\"linecolor\":\"white\",\"showbackground\":true,\"ticks\":\"\",\"zerolinecolor\":\"white\"}},\"shapedefaults\":{\"line\":{\"color\":\"#2a3f5f\"}},\"ternary\":{\"aaxis\":{\"gridcolor\":\"white\",\"linecolor\":\"white\",\"ticks\":\"\"},\"baxis\":{\"gridcolor\":\"white\",\"linecolor\":\"white\",\"ticks\":\"\"},\"bgcolor\":\"#E5ECF6\",\"caxis\":{\"gridcolor\":\"white\",\"linecolor\":\"white\",\"ticks\":\"\"}},\"title\":{\"x\":0.05},\"xaxis\":{\"automargin\":true,\"gridcolor\":\"white\",\"linecolor\":\"white\",\"ticks\":\"\",\"title\":{\"standoff\":15},\"zerolinecolor\":\"white\",\"zerolinewidth\":2},\"yaxis\":{\"automargin\":true,\"gridcolor\":\"white\",\"linecolor\":\"white\",\"ticks\":\"\",\"title\":{\"standoff\":15},\"zerolinecolor\":\"white\",\"zerolinewidth\":2}}},\"title\":{\"font\":{\"color\":\"#4D5663\"}},\"xaxis\":{\"gridcolor\":\"#E1E5ED\",\"showgrid\":true,\"tickfont\":{\"color\":\"#4D5663\"},\"title\":{\"font\":{\"color\":\"#4D5663\"},\"text\":\"\"},\"zerolinecolor\":\"#E1E5ED\"},\"yaxis\":{\"gridcolor\":\"#E1E5ED\",\"showgrid\":true,\"tickfont\":{\"color\":\"#4D5663\"},\"title\":{\"font\":{\"color\":\"#4D5663\"},\"text\":\"\"},\"zerolinecolor\":\"#E1E5ED\"}},                        {\"showLink\": true, \"linkText\": \"Export to plot.ly\", \"plotlyServerURL\": \"https://plot.ly\", \"responsive\": true}                    ).then(function(){\n",
       "                            \n",
       "var gd = document.getElementById('03d674e6-40c6-4be9-a042-0b0e098e0ce3');\n",
       "var x = new MutationObserver(function (mutations, observer) {{\n",
       "        var display = window.getComputedStyle(gd).display;\n",
       "        if (!display || display === 'none') {{\n",
       "            console.log([gd, 'removed!']);\n",
       "            Plotly.purge(gd);\n",
       "            observer.disconnect();\n",
       "        }}\n",
       "}});\n",
       "\n",
       "// Listen for the removal of the full notebook cells\n",
       "var notebookContainer = gd.closest('#notebook-container');\n",
       "if (notebookContainer) {{\n",
       "    x.observe(notebookContainer, {childList: true});\n",
       "}}\n",
       "\n",
       "// Listen for the clearing of the current output cell\n",
       "var outputEl = gd.closest('.output');\n",
       "if (outputEl) {{\n",
       "    x.observe(outputEl, {childList: true});\n",
       "}}\n",
       "\n",
       "                        })                };                });            </script>        </div>"
      ]
     },
     "metadata": {},
     "output_type": "display_data"
    }
   ],
   "source": [
    "df.iloc[:54 , :8].iplot(kind= 'scatter', x='Time', y='Acc_X')"
   ]
  },
  {
   "cell_type": "code",
   "execution_count": 126,
   "metadata": {},
   "outputs": [
    {
     "data": {
      "application/vnd.plotly.v1+json": {
       "config": {
        "linkText": "Export to plot.ly",
        "plotlyServerURL": "https://plot.ly",
        "showLink": true
       },
       "data": [
        {
         "line": {
          "color": "rgba(255, 153, 51, 1.0)",
          "dash": "solid",
          "shape": "linear",
          "width": 1.3
         },
         "mode": "lines",
         "name": "Acc_Y",
         "text": "",
         "type": "scatter",
         "x": [
          0,
          0.5,
          1.5,
          1.75,
          2.5,
          3.25,
          4,
          5,
          5.5,
          6,
          6.5,
          6.75,
          7.75,
          8,
          9,
          9.75,
          10,
          10.5,
          10.75,
          12,
          12.5,
          13,
          14,
          15.25,
          15.5,
          16.5,
          17.5,
          18.5,
          18.75,
          19.25,
          20,
          21,
          22.75,
          23,
          23.25,
          24.5,
          26.25,
          27.75,
          28.5,
          29,
          29.5,
          29.75,
          30.5,
          30.75,
          31.75,
          32.5,
          33,
          33.5,
          34,
          34.5,
          35.5,
          35.6,
          35.75,
          36.25
         ],
         "y": [
          1.0082,
          1.0082,
          0.91636,
          0.91636,
          0.96229,
          0.96229,
          0.99674,
          0.99674,
          1.0312,
          1.0312,
          1.0312,
          1.0312,
          0.99674,
          0.99674,
          0.92784,
          0.93932,
          0.93932,
          0.93932,
          0.93932,
          0.99674,
          0.99674,
          0.99674,
          0.93932,
          1.0082,
          1.0082,
          1.0312,
          1.0197,
          0.99674,
          0.99674,
          0.99674,
          0.91636,
          0.92784,
          1.0312,
          1.0312,
          1.0312,
          1.0197,
          1.0197,
          1.0312,
          0.91636,
          0.91636,
          0.91636,
          0.91636,
          0.91636,
          0.91636,
          1.0082,
          0.97377,
          0.97377,
          0.97377,
          1.0197,
          1.0197,
          0.87042,
          0.87042,
          0.87042,
          0.87042
         ]
        }
       ],
       "layout": {
        "legend": {
         "bgcolor": "#F5F6F9",
         "font": {
          "color": "#4D5663"
         }
        },
        "paper_bgcolor": "#F5F6F9",
        "plot_bgcolor": "#F5F6F9",
        "template": {
         "data": {
          "bar": [
           {
            "error_x": {
             "color": "#2a3f5f"
            },
            "error_y": {
             "color": "#2a3f5f"
            },
            "marker": {
             "line": {
              "color": "#E5ECF6",
              "width": 0.5
             },
             "pattern": {
              "fillmode": "overlay",
              "size": 10,
              "solidity": 0.2
             }
            },
            "type": "bar"
           }
          ],
          "barpolar": [
           {
            "marker": {
             "line": {
              "color": "#E5ECF6",
              "width": 0.5
             },
             "pattern": {
              "fillmode": "overlay",
              "size": 10,
              "solidity": 0.2
             }
            },
            "type": "barpolar"
           }
          ],
          "carpet": [
           {
            "aaxis": {
             "endlinecolor": "#2a3f5f",
             "gridcolor": "white",
             "linecolor": "white",
             "minorgridcolor": "white",
             "startlinecolor": "#2a3f5f"
            },
            "baxis": {
             "endlinecolor": "#2a3f5f",
             "gridcolor": "white",
             "linecolor": "white",
             "minorgridcolor": "white",
             "startlinecolor": "#2a3f5f"
            },
            "type": "carpet"
           }
          ],
          "choropleth": [
           {
            "colorbar": {
             "outlinewidth": 0,
             "ticks": ""
            },
            "type": "choropleth"
           }
          ],
          "contour": [
           {
            "colorbar": {
             "outlinewidth": 0,
             "ticks": ""
            },
            "colorscale": [
             [
              0,
              "#0d0887"
             ],
             [
              0.1111111111111111,
              "#46039f"
             ],
             [
              0.2222222222222222,
              "#7201a8"
             ],
             [
              0.3333333333333333,
              "#9c179e"
             ],
             [
              0.4444444444444444,
              "#bd3786"
             ],
             [
              0.5555555555555556,
              "#d8576b"
             ],
             [
              0.6666666666666666,
              "#ed7953"
             ],
             [
              0.7777777777777778,
              "#fb9f3a"
             ],
             [
              0.8888888888888888,
              "#fdca26"
             ],
             [
              1,
              "#f0f921"
             ]
            ],
            "type": "contour"
           }
          ],
          "contourcarpet": [
           {
            "colorbar": {
             "outlinewidth": 0,
             "ticks": ""
            },
            "type": "contourcarpet"
           }
          ],
          "heatmap": [
           {
            "colorbar": {
             "outlinewidth": 0,
             "ticks": ""
            },
            "colorscale": [
             [
              0,
              "#0d0887"
             ],
             [
              0.1111111111111111,
              "#46039f"
             ],
             [
              0.2222222222222222,
              "#7201a8"
             ],
             [
              0.3333333333333333,
              "#9c179e"
             ],
             [
              0.4444444444444444,
              "#bd3786"
             ],
             [
              0.5555555555555556,
              "#d8576b"
             ],
             [
              0.6666666666666666,
              "#ed7953"
             ],
             [
              0.7777777777777778,
              "#fb9f3a"
             ],
             [
              0.8888888888888888,
              "#fdca26"
             ],
             [
              1,
              "#f0f921"
             ]
            ],
            "type": "heatmap"
           }
          ],
          "heatmapgl": [
           {
            "colorbar": {
             "outlinewidth": 0,
             "ticks": ""
            },
            "colorscale": [
             [
              0,
              "#0d0887"
             ],
             [
              0.1111111111111111,
              "#46039f"
             ],
             [
              0.2222222222222222,
              "#7201a8"
             ],
             [
              0.3333333333333333,
              "#9c179e"
             ],
             [
              0.4444444444444444,
              "#bd3786"
             ],
             [
              0.5555555555555556,
              "#d8576b"
             ],
             [
              0.6666666666666666,
              "#ed7953"
             ],
             [
              0.7777777777777778,
              "#fb9f3a"
             ],
             [
              0.8888888888888888,
              "#fdca26"
             ],
             [
              1,
              "#f0f921"
             ]
            ],
            "type": "heatmapgl"
           }
          ],
          "histogram": [
           {
            "marker": {
             "pattern": {
              "fillmode": "overlay",
              "size": 10,
              "solidity": 0.2
             }
            },
            "type": "histogram"
           }
          ],
          "histogram2d": [
           {
            "colorbar": {
             "outlinewidth": 0,
             "ticks": ""
            },
            "colorscale": [
             [
              0,
              "#0d0887"
             ],
             [
              0.1111111111111111,
              "#46039f"
             ],
             [
              0.2222222222222222,
              "#7201a8"
             ],
             [
              0.3333333333333333,
              "#9c179e"
             ],
             [
              0.4444444444444444,
              "#bd3786"
             ],
             [
              0.5555555555555556,
              "#d8576b"
             ],
             [
              0.6666666666666666,
              "#ed7953"
             ],
             [
              0.7777777777777778,
              "#fb9f3a"
             ],
             [
              0.8888888888888888,
              "#fdca26"
             ],
             [
              1,
              "#f0f921"
             ]
            ],
            "type": "histogram2d"
           }
          ],
          "histogram2dcontour": [
           {
            "colorbar": {
             "outlinewidth": 0,
             "ticks": ""
            },
            "colorscale": [
             [
              0,
              "#0d0887"
             ],
             [
              0.1111111111111111,
              "#46039f"
             ],
             [
              0.2222222222222222,
              "#7201a8"
             ],
             [
              0.3333333333333333,
              "#9c179e"
             ],
             [
              0.4444444444444444,
              "#bd3786"
             ],
             [
              0.5555555555555556,
              "#d8576b"
             ],
             [
              0.6666666666666666,
              "#ed7953"
             ],
             [
              0.7777777777777778,
              "#fb9f3a"
             ],
             [
              0.8888888888888888,
              "#fdca26"
             ],
             [
              1,
              "#f0f921"
             ]
            ],
            "type": "histogram2dcontour"
           }
          ],
          "mesh3d": [
           {
            "colorbar": {
             "outlinewidth": 0,
             "ticks": ""
            },
            "type": "mesh3d"
           }
          ],
          "parcoords": [
           {
            "line": {
             "colorbar": {
              "outlinewidth": 0,
              "ticks": ""
             }
            },
            "type": "parcoords"
           }
          ],
          "pie": [
           {
            "automargin": true,
            "type": "pie"
           }
          ],
          "scatter": [
           {
            "fillpattern": {
             "fillmode": "overlay",
             "size": 10,
             "solidity": 0.2
            },
            "type": "scatter"
           }
          ],
          "scatter3d": [
           {
            "line": {
             "colorbar": {
              "outlinewidth": 0,
              "ticks": ""
             }
            },
            "marker": {
             "colorbar": {
              "outlinewidth": 0,
              "ticks": ""
             }
            },
            "type": "scatter3d"
           }
          ],
          "scattercarpet": [
           {
            "marker": {
             "colorbar": {
              "outlinewidth": 0,
              "ticks": ""
             }
            },
            "type": "scattercarpet"
           }
          ],
          "scattergeo": [
           {
            "marker": {
             "colorbar": {
              "outlinewidth": 0,
              "ticks": ""
             }
            },
            "type": "scattergeo"
           }
          ],
          "scattergl": [
           {
            "marker": {
             "colorbar": {
              "outlinewidth": 0,
              "ticks": ""
             }
            },
            "type": "scattergl"
           }
          ],
          "scattermapbox": [
           {
            "marker": {
             "colorbar": {
              "outlinewidth": 0,
              "ticks": ""
             }
            },
            "type": "scattermapbox"
           }
          ],
          "scatterpolar": [
           {
            "marker": {
             "colorbar": {
              "outlinewidth": 0,
              "ticks": ""
             }
            },
            "type": "scatterpolar"
           }
          ],
          "scatterpolargl": [
           {
            "marker": {
             "colorbar": {
              "outlinewidth": 0,
              "ticks": ""
             }
            },
            "type": "scatterpolargl"
           }
          ],
          "scatterternary": [
           {
            "marker": {
             "colorbar": {
              "outlinewidth": 0,
              "ticks": ""
             }
            },
            "type": "scatterternary"
           }
          ],
          "surface": [
           {
            "colorbar": {
             "outlinewidth": 0,
             "ticks": ""
            },
            "colorscale": [
             [
              0,
              "#0d0887"
             ],
             [
              0.1111111111111111,
              "#46039f"
             ],
             [
              0.2222222222222222,
              "#7201a8"
             ],
             [
              0.3333333333333333,
              "#9c179e"
             ],
             [
              0.4444444444444444,
              "#bd3786"
             ],
             [
              0.5555555555555556,
              "#d8576b"
             ],
             [
              0.6666666666666666,
              "#ed7953"
             ],
             [
              0.7777777777777778,
              "#fb9f3a"
             ],
             [
              0.8888888888888888,
              "#fdca26"
             ],
             [
              1,
              "#f0f921"
             ]
            ],
            "type": "surface"
           }
          ],
          "table": [
           {
            "cells": {
             "fill": {
              "color": "#EBF0F8"
             },
             "line": {
              "color": "white"
             }
            },
            "header": {
             "fill": {
              "color": "#C8D4E3"
             },
             "line": {
              "color": "white"
             }
            },
            "type": "table"
           }
          ]
         },
         "layout": {
          "annotationdefaults": {
           "arrowcolor": "#2a3f5f",
           "arrowhead": 0,
           "arrowwidth": 1
          },
          "autotypenumbers": "strict",
          "coloraxis": {
           "colorbar": {
            "outlinewidth": 0,
            "ticks": ""
           }
          },
          "colorscale": {
           "diverging": [
            [
             0,
             "#8e0152"
            ],
            [
             0.1,
             "#c51b7d"
            ],
            [
             0.2,
             "#de77ae"
            ],
            [
             0.3,
             "#f1b6da"
            ],
            [
             0.4,
             "#fde0ef"
            ],
            [
             0.5,
             "#f7f7f7"
            ],
            [
             0.6,
             "#e6f5d0"
            ],
            [
             0.7,
             "#b8e186"
            ],
            [
             0.8,
             "#7fbc41"
            ],
            [
             0.9,
             "#4d9221"
            ],
            [
             1,
             "#276419"
            ]
           ],
           "sequential": [
            [
             0,
             "#0d0887"
            ],
            [
             0.1111111111111111,
             "#46039f"
            ],
            [
             0.2222222222222222,
             "#7201a8"
            ],
            [
             0.3333333333333333,
             "#9c179e"
            ],
            [
             0.4444444444444444,
             "#bd3786"
            ],
            [
             0.5555555555555556,
             "#d8576b"
            ],
            [
             0.6666666666666666,
             "#ed7953"
            ],
            [
             0.7777777777777778,
             "#fb9f3a"
            ],
            [
             0.8888888888888888,
             "#fdca26"
            ],
            [
             1,
             "#f0f921"
            ]
           ],
           "sequentialminus": [
            [
             0,
             "#0d0887"
            ],
            [
             0.1111111111111111,
             "#46039f"
            ],
            [
             0.2222222222222222,
             "#7201a8"
            ],
            [
             0.3333333333333333,
             "#9c179e"
            ],
            [
             0.4444444444444444,
             "#bd3786"
            ],
            [
             0.5555555555555556,
             "#d8576b"
            ],
            [
             0.6666666666666666,
             "#ed7953"
            ],
            [
             0.7777777777777778,
             "#fb9f3a"
            ],
            [
             0.8888888888888888,
             "#fdca26"
            ],
            [
             1,
             "#f0f921"
            ]
           ]
          },
          "colorway": [
           "#636efa",
           "#EF553B",
           "#00cc96",
           "#ab63fa",
           "#FFA15A",
           "#19d3f3",
           "#FF6692",
           "#B6E880",
           "#FF97FF",
           "#FECB52"
          ],
          "font": {
           "color": "#2a3f5f"
          },
          "geo": {
           "bgcolor": "white",
           "lakecolor": "white",
           "landcolor": "#E5ECF6",
           "showlakes": true,
           "showland": true,
           "subunitcolor": "white"
          },
          "hoverlabel": {
           "align": "left"
          },
          "hovermode": "closest",
          "mapbox": {
           "style": "light"
          },
          "paper_bgcolor": "white",
          "plot_bgcolor": "#E5ECF6",
          "polar": {
           "angularaxis": {
            "gridcolor": "white",
            "linecolor": "white",
            "ticks": ""
           },
           "bgcolor": "#E5ECF6",
           "radialaxis": {
            "gridcolor": "white",
            "linecolor": "white",
            "ticks": ""
           }
          },
          "scene": {
           "xaxis": {
            "backgroundcolor": "#E5ECF6",
            "gridcolor": "white",
            "gridwidth": 2,
            "linecolor": "white",
            "showbackground": true,
            "ticks": "",
            "zerolinecolor": "white"
           },
           "yaxis": {
            "backgroundcolor": "#E5ECF6",
            "gridcolor": "white",
            "gridwidth": 2,
            "linecolor": "white",
            "showbackground": true,
            "ticks": "",
            "zerolinecolor": "white"
           },
           "zaxis": {
            "backgroundcolor": "#E5ECF6",
            "gridcolor": "white",
            "gridwidth": 2,
            "linecolor": "white",
            "showbackground": true,
            "ticks": "",
            "zerolinecolor": "white"
           }
          },
          "shapedefaults": {
           "line": {
            "color": "#2a3f5f"
           }
          },
          "ternary": {
           "aaxis": {
            "gridcolor": "white",
            "linecolor": "white",
            "ticks": ""
           },
           "baxis": {
            "gridcolor": "white",
            "linecolor": "white",
            "ticks": ""
           },
           "bgcolor": "#E5ECF6",
           "caxis": {
            "gridcolor": "white",
            "linecolor": "white",
            "ticks": ""
           }
          },
          "title": {
           "x": 0.05
          },
          "xaxis": {
           "automargin": true,
           "gridcolor": "white",
           "linecolor": "white",
           "ticks": "",
           "title": {
            "standoff": 15
           },
           "zerolinecolor": "white",
           "zerolinewidth": 2
          },
          "yaxis": {
           "automargin": true,
           "gridcolor": "white",
           "linecolor": "white",
           "ticks": "",
           "title": {
            "standoff": 15
           },
           "zerolinecolor": "white",
           "zerolinewidth": 2
          }
         }
        },
        "title": {
         "font": {
          "color": "#4D5663"
         }
        },
        "xaxis": {
         "gridcolor": "#E1E5ED",
         "showgrid": true,
         "tickfont": {
          "color": "#4D5663"
         },
         "title": {
          "font": {
           "color": "#4D5663"
          },
          "text": ""
         },
         "zerolinecolor": "#E1E5ED"
        },
        "yaxis": {
         "gridcolor": "#E1E5ED",
         "showgrid": true,
         "tickfont": {
          "color": "#4D5663"
         },
         "title": {
          "font": {
           "color": "#4D5663"
          },
          "text": ""
         },
         "zerolinecolor": "#E1E5ED"
        }
       }
      },
      "text/html": [
       "<div>                            <div id=\"cf652e95-63ab-4363-b54f-2c311925f34d\" class=\"plotly-graph-div\" style=\"height:525px; width:100%;\"></div>            <script type=\"text/javascript\">                require([\"plotly\"], function(Plotly) {                    window.PLOTLYENV=window.PLOTLYENV || {};\n",
       "                    window.PLOTLYENV.BASE_URL='https://plot.ly';                                    if (document.getElementById(\"cf652e95-63ab-4363-b54f-2c311925f34d\")) {                    Plotly.newPlot(                        \"cf652e95-63ab-4363-b54f-2c311925f34d\",                        [{\"line\":{\"color\":\"rgba(255, 153, 51, 1.0)\",\"dash\":\"solid\",\"shape\":\"linear\",\"width\":1.3},\"mode\":\"lines\",\"name\":\"Acc_Y\",\"text\":\"\",\"x\":[0.0,0.5,1.5,1.75,2.5,3.25,4.0,5.0,5.5,6.0,6.5,6.75,7.75,8.0,9.0,9.75,10.0,10.5,10.75,12.0,12.5,13.0,14.0,15.25,15.5,16.5,17.5,18.5,18.75,19.25,20.0,21.0,22.75,23.0,23.25,24.5,26.25,27.75,28.5,29.0,29.5,29.75,30.5,30.75,31.75,32.5,33.0,33.5,34.0,34.5,35.5,35.6,35.75,36.25],\"y\":[1.0082,1.0082,0.91636,0.91636,0.96229,0.96229,0.99674,0.99674,1.0312,1.0312,1.0312,1.0312,0.99674,0.99674,0.92784,0.93932,0.93932,0.93932,0.93932,0.99674,0.99674,0.99674,0.93932,1.0082,1.0082,1.0312,1.0197,0.99674,0.99674,0.99674,0.91636,0.92784,1.0312,1.0312,1.0312,1.0197,1.0197,1.0312,0.91636,0.91636,0.91636,0.91636,0.91636,0.91636,1.0082,0.97377,0.97377,0.97377,1.0197,1.0197,0.87042,0.87042,0.87042,0.87042],\"type\":\"scatter\"}],                        {\"legend\":{\"bgcolor\":\"#F5F6F9\",\"font\":{\"color\":\"#4D5663\"}},\"paper_bgcolor\":\"#F5F6F9\",\"plot_bgcolor\":\"#F5F6F9\",\"template\":{\"data\":{\"barpolar\":[{\"marker\":{\"line\":{\"color\":\"#E5ECF6\",\"width\":0.5},\"pattern\":{\"fillmode\":\"overlay\",\"size\":10,\"solidity\":0.2}},\"type\":\"barpolar\"}],\"bar\":[{\"error_x\":{\"color\":\"#2a3f5f\"},\"error_y\":{\"color\":\"#2a3f5f\"},\"marker\":{\"line\":{\"color\":\"#E5ECF6\",\"width\":0.5},\"pattern\":{\"fillmode\":\"overlay\",\"size\":10,\"solidity\":0.2}},\"type\":\"bar\"}],\"carpet\":[{\"aaxis\":{\"endlinecolor\":\"#2a3f5f\",\"gridcolor\":\"white\",\"linecolor\":\"white\",\"minorgridcolor\":\"white\",\"startlinecolor\":\"#2a3f5f\"},\"baxis\":{\"endlinecolor\":\"#2a3f5f\",\"gridcolor\":\"white\",\"linecolor\":\"white\",\"minorgridcolor\":\"white\",\"startlinecolor\":\"#2a3f5f\"},\"type\":\"carpet\"}],\"choropleth\":[{\"colorbar\":{\"outlinewidth\":0,\"ticks\":\"\"},\"type\":\"choropleth\"}],\"contourcarpet\":[{\"colorbar\":{\"outlinewidth\":0,\"ticks\":\"\"},\"type\":\"contourcarpet\"}],\"contour\":[{\"colorbar\":{\"outlinewidth\":0,\"ticks\":\"\"},\"colorscale\":[[0.0,\"#0d0887\"],[0.1111111111111111,\"#46039f\"],[0.2222222222222222,\"#7201a8\"],[0.3333333333333333,\"#9c179e\"],[0.4444444444444444,\"#bd3786\"],[0.5555555555555556,\"#d8576b\"],[0.6666666666666666,\"#ed7953\"],[0.7777777777777778,\"#fb9f3a\"],[0.8888888888888888,\"#fdca26\"],[1.0,\"#f0f921\"]],\"type\":\"contour\"}],\"heatmapgl\":[{\"colorbar\":{\"outlinewidth\":0,\"ticks\":\"\"},\"colorscale\":[[0.0,\"#0d0887\"],[0.1111111111111111,\"#46039f\"],[0.2222222222222222,\"#7201a8\"],[0.3333333333333333,\"#9c179e\"],[0.4444444444444444,\"#bd3786\"],[0.5555555555555556,\"#d8576b\"],[0.6666666666666666,\"#ed7953\"],[0.7777777777777778,\"#fb9f3a\"],[0.8888888888888888,\"#fdca26\"],[1.0,\"#f0f921\"]],\"type\":\"heatmapgl\"}],\"heatmap\":[{\"colorbar\":{\"outlinewidth\":0,\"ticks\":\"\"},\"colorscale\":[[0.0,\"#0d0887\"],[0.1111111111111111,\"#46039f\"],[0.2222222222222222,\"#7201a8\"],[0.3333333333333333,\"#9c179e\"],[0.4444444444444444,\"#bd3786\"],[0.5555555555555556,\"#d8576b\"],[0.6666666666666666,\"#ed7953\"],[0.7777777777777778,\"#fb9f3a\"],[0.8888888888888888,\"#fdca26\"],[1.0,\"#f0f921\"]],\"type\":\"heatmap\"}],\"histogram2dcontour\":[{\"colorbar\":{\"outlinewidth\":0,\"ticks\":\"\"},\"colorscale\":[[0.0,\"#0d0887\"],[0.1111111111111111,\"#46039f\"],[0.2222222222222222,\"#7201a8\"],[0.3333333333333333,\"#9c179e\"],[0.4444444444444444,\"#bd3786\"],[0.5555555555555556,\"#d8576b\"],[0.6666666666666666,\"#ed7953\"],[0.7777777777777778,\"#fb9f3a\"],[0.8888888888888888,\"#fdca26\"],[1.0,\"#f0f921\"]],\"type\":\"histogram2dcontour\"}],\"histogram2d\":[{\"colorbar\":{\"outlinewidth\":0,\"ticks\":\"\"},\"colorscale\":[[0.0,\"#0d0887\"],[0.1111111111111111,\"#46039f\"],[0.2222222222222222,\"#7201a8\"],[0.3333333333333333,\"#9c179e\"],[0.4444444444444444,\"#bd3786\"],[0.5555555555555556,\"#d8576b\"],[0.6666666666666666,\"#ed7953\"],[0.7777777777777778,\"#fb9f3a\"],[0.8888888888888888,\"#fdca26\"],[1.0,\"#f0f921\"]],\"type\":\"histogram2d\"}],\"histogram\":[{\"marker\":{\"pattern\":{\"fillmode\":\"overlay\",\"size\":10,\"solidity\":0.2}},\"type\":\"histogram\"}],\"mesh3d\":[{\"colorbar\":{\"outlinewidth\":0,\"ticks\":\"\"},\"type\":\"mesh3d\"}],\"parcoords\":[{\"line\":{\"colorbar\":{\"outlinewidth\":0,\"ticks\":\"\"}},\"type\":\"parcoords\"}],\"pie\":[{\"automargin\":true,\"type\":\"pie\"}],\"scatter3d\":[{\"line\":{\"colorbar\":{\"outlinewidth\":0,\"ticks\":\"\"}},\"marker\":{\"colorbar\":{\"outlinewidth\":0,\"ticks\":\"\"}},\"type\":\"scatter3d\"}],\"scattercarpet\":[{\"marker\":{\"colorbar\":{\"outlinewidth\":0,\"ticks\":\"\"}},\"type\":\"scattercarpet\"}],\"scattergeo\":[{\"marker\":{\"colorbar\":{\"outlinewidth\":0,\"ticks\":\"\"}},\"type\":\"scattergeo\"}],\"scattergl\":[{\"marker\":{\"colorbar\":{\"outlinewidth\":0,\"ticks\":\"\"}},\"type\":\"scattergl\"}],\"scattermapbox\":[{\"marker\":{\"colorbar\":{\"outlinewidth\":0,\"ticks\":\"\"}},\"type\":\"scattermapbox\"}],\"scatterpolargl\":[{\"marker\":{\"colorbar\":{\"outlinewidth\":0,\"ticks\":\"\"}},\"type\":\"scatterpolargl\"}],\"scatterpolar\":[{\"marker\":{\"colorbar\":{\"outlinewidth\":0,\"ticks\":\"\"}},\"type\":\"scatterpolar\"}],\"scatter\":[{\"fillpattern\":{\"fillmode\":\"overlay\",\"size\":10,\"solidity\":0.2},\"type\":\"scatter\"}],\"scatterternary\":[{\"marker\":{\"colorbar\":{\"outlinewidth\":0,\"ticks\":\"\"}},\"type\":\"scatterternary\"}],\"surface\":[{\"colorbar\":{\"outlinewidth\":0,\"ticks\":\"\"},\"colorscale\":[[0.0,\"#0d0887\"],[0.1111111111111111,\"#46039f\"],[0.2222222222222222,\"#7201a8\"],[0.3333333333333333,\"#9c179e\"],[0.4444444444444444,\"#bd3786\"],[0.5555555555555556,\"#d8576b\"],[0.6666666666666666,\"#ed7953\"],[0.7777777777777778,\"#fb9f3a\"],[0.8888888888888888,\"#fdca26\"],[1.0,\"#f0f921\"]],\"type\":\"surface\"}],\"table\":[{\"cells\":{\"fill\":{\"color\":\"#EBF0F8\"},\"line\":{\"color\":\"white\"}},\"header\":{\"fill\":{\"color\":\"#C8D4E3\"},\"line\":{\"color\":\"white\"}},\"type\":\"table\"}]},\"layout\":{\"annotationdefaults\":{\"arrowcolor\":\"#2a3f5f\",\"arrowhead\":0,\"arrowwidth\":1},\"autotypenumbers\":\"strict\",\"coloraxis\":{\"colorbar\":{\"outlinewidth\":0,\"ticks\":\"\"}},\"colorscale\":{\"diverging\":[[0,\"#8e0152\"],[0.1,\"#c51b7d\"],[0.2,\"#de77ae\"],[0.3,\"#f1b6da\"],[0.4,\"#fde0ef\"],[0.5,\"#f7f7f7\"],[0.6,\"#e6f5d0\"],[0.7,\"#b8e186\"],[0.8,\"#7fbc41\"],[0.9,\"#4d9221\"],[1,\"#276419\"]],\"sequential\":[[0.0,\"#0d0887\"],[0.1111111111111111,\"#46039f\"],[0.2222222222222222,\"#7201a8\"],[0.3333333333333333,\"#9c179e\"],[0.4444444444444444,\"#bd3786\"],[0.5555555555555556,\"#d8576b\"],[0.6666666666666666,\"#ed7953\"],[0.7777777777777778,\"#fb9f3a\"],[0.8888888888888888,\"#fdca26\"],[1.0,\"#f0f921\"]],\"sequentialminus\":[[0.0,\"#0d0887\"],[0.1111111111111111,\"#46039f\"],[0.2222222222222222,\"#7201a8\"],[0.3333333333333333,\"#9c179e\"],[0.4444444444444444,\"#bd3786\"],[0.5555555555555556,\"#d8576b\"],[0.6666666666666666,\"#ed7953\"],[0.7777777777777778,\"#fb9f3a\"],[0.8888888888888888,\"#fdca26\"],[1.0,\"#f0f921\"]]},\"colorway\":[\"#636efa\",\"#EF553B\",\"#00cc96\",\"#ab63fa\",\"#FFA15A\",\"#19d3f3\",\"#FF6692\",\"#B6E880\",\"#FF97FF\",\"#FECB52\"],\"font\":{\"color\":\"#2a3f5f\"},\"geo\":{\"bgcolor\":\"white\",\"lakecolor\":\"white\",\"landcolor\":\"#E5ECF6\",\"showlakes\":true,\"showland\":true,\"subunitcolor\":\"white\"},\"hoverlabel\":{\"align\":\"left\"},\"hovermode\":\"closest\",\"mapbox\":{\"style\":\"light\"},\"paper_bgcolor\":\"white\",\"plot_bgcolor\":\"#E5ECF6\",\"polar\":{\"angularaxis\":{\"gridcolor\":\"white\",\"linecolor\":\"white\",\"ticks\":\"\"},\"bgcolor\":\"#E5ECF6\",\"radialaxis\":{\"gridcolor\":\"white\",\"linecolor\":\"white\",\"ticks\":\"\"}},\"scene\":{\"xaxis\":{\"backgroundcolor\":\"#E5ECF6\",\"gridcolor\":\"white\",\"gridwidth\":2,\"linecolor\":\"white\",\"showbackground\":true,\"ticks\":\"\",\"zerolinecolor\":\"white\"},\"yaxis\":{\"backgroundcolor\":\"#E5ECF6\",\"gridcolor\":\"white\",\"gridwidth\":2,\"linecolor\":\"white\",\"showbackground\":true,\"ticks\":\"\",\"zerolinecolor\":\"white\"},\"zaxis\":{\"backgroundcolor\":\"#E5ECF6\",\"gridcolor\":\"white\",\"gridwidth\":2,\"linecolor\":\"white\",\"showbackground\":true,\"ticks\":\"\",\"zerolinecolor\":\"white\"}},\"shapedefaults\":{\"line\":{\"color\":\"#2a3f5f\"}},\"ternary\":{\"aaxis\":{\"gridcolor\":\"white\",\"linecolor\":\"white\",\"ticks\":\"\"},\"baxis\":{\"gridcolor\":\"white\",\"linecolor\":\"white\",\"ticks\":\"\"},\"bgcolor\":\"#E5ECF6\",\"caxis\":{\"gridcolor\":\"white\",\"linecolor\":\"white\",\"ticks\":\"\"}},\"title\":{\"x\":0.05},\"xaxis\":{\"automargin\":true,\"gridcolor\":\"white\",\"linecolor\":\"white\",\"ticks\":\"\",\"title\":{\"standoff\":15},\"zerolinecolor\":\"white\",\"zerolinewidth\":2},\"yaxis\":{\"automargin\":true,\"gridcolor\":\"white\",\"linecolor\":\"white\",\"ticks\":\"\",\"title\":{\"standoff\":15},\"zerolinecolor\":\"white\",\"zerolinewidth\":2}}},\"title\":{\"font\":{\"color\":\"#4D5663\"}},\"xaxis\":{\"gridcolor\":\"#E1E5ED\",\"showgrid\":true,\"tickfont\":{\"color\":\"#4D5663\"},\"title\":{\"font\":{\"color\":\"#4D5663\"},\"text\":\"\"},\"zerolinecolor\":\"#E1E5ED\"},\"yaxis\":{\"gridcolor\":\"#E1E5ED\",\"showgrid\":true,\"tickfont\":{\"color\":\"#4D5663\"},\"title\":{\"font\":{\"color\":\"#4D5663\"},\"text\":\"\"},\"zerolinecolor\":\"#E1E5ED\"}},                        {\"showLink\": true, \"linkText\": \"Export to plot.ly\", \"plotlyServerURL\": \"https://plot.ly\", \"responsive\": true}                    ).then(function(){\n",
       "                            \n",
       "var gd = document.getElementById('cf652e95-63ab-4363-b54f-2c311925f34d');\n",
       "var x = new MutationObserver(function (mutations, observer) {{\n",
       "        var display = window.getComputedStyle(gd).display;\n",
       "        if (!display || display === 'none') {{\n",
       "            console.log([gd, 'removed!']);\n",
       "            Plotly.purge(gd);\n",
       "            observer.disconnect();\n",
       "        }}\n",
       "}});\n",
       "\n",
       "// Listen for the removal of the full notebook cells\n",
       "var notebookContainer = gd.closest('#notebook-container');\n",
       "if (notebookContainer) {{\n",
       "    x.observe(notebookContainer, {childList: true});\n",
       "}}\n",
       "\n",
       "// Listen for the clearing of the current output cell\n",
       "var outputEl = gd.closest('.output');\n",
       "if (outputEl) {{\n",
       "    x.observe(outputEl, {childList: true});\n",
       "}}\n",
       "\n",
       "                        })                };                });            </script>        </div>"
      ]
     },
     "metadata": {},
     "output_type": "display_data"
    }
   ],
   "source": [
    "df.iloc[:54 , :8].iplot(kind= 'scatter', x='Time', y='Acc_Y')"
   ]
  },
  {
   "cell_type": "code",
   "execution_count": 129,
   "metadata": {},
   "outputs": [
    {
     "data": {
      "text/html": [
       "<div>\n",
       "<style scoped>\n",
       "    .dataframe tbody tr th:only-of-type {\n",
       "        vertical-align: middle;\n",
       "    }\n",
       "\n",
       "    .dataframe tbody tr th {\n",
       "        vertical-align: top;\n",
       "    }\n",
       "\n",
       "    .dataframe thead th {\n",
       "        text-align: right;\n",
       "    }\n",
       "</style>\n",
       "<table border=\"1\" class=\"dataframe\">\n",
       "  <thead>\n",
       "    <tr style=\"text-align: right;\">\n",
       "      <th></th>\n",
       "      <th>Time</th>\n",
       "      <th>Acc_X</th>\n",
       "      <th>Acc_Y</th>\n",
       "      <th>Acc_Z</th>\n",
       "      <th>Id</th>\n",
       "      <th>RSSI</th>\n",
       "      <th>Phase</th>\n",
       "      <th>Freq</th>\n",
       "      <th>Label</th>\n",
       "    </tr>\n",
       "    <tr>\n",
       "      <th>Label_act</th>\n",
       "      <th></th>\n",
       "      <th></th>\n",
       "      <th></th>\n",
       "      <th></th>\n",
       "      <th></th>\n",
       "      <th></th>\n",
       "      <th></th>\n",
       "      <th></th>\n",
       "      <th></th>\n",
       "    </tr>\n",
       "  </thead>\n",
       "  <tbody>\n",
       "    <tr>\n",
       "      <th>ambulating</th>\n",
       "      <td>145.500000</td>\n",
       "      <td>0.352431</td>\n",
       "      <td>0.911431</td>\n",
       "      <td>-0.086989</td>\n",
       "      <td>1.428571</td>\n",
       "      <td>-56.642857</td>\n",
       "      <td>3.218496</td>\n",
       "      <td>922.750000</td>\n",
       "      <td>4.0</td>\n",
       "    </tr>\n",
       "    <tr>\n",
       "      <th>lying</th>\n",
       "      <td>136.454068</td>\n",
       "      <td>1.003751</td>\n",
       "      <td>-0.207010</td>\n",
       "      <td>-0.107862</td>\n",
       "      <td>3.100000</td>\n",
       "      <td>-55.863636</td>\n",
       "      <td>3.851561</td>\n",
       "      <td>922.963636</td>\n",
       "      <td>3.0</td>\n",
       "    </tr>\n",
       "    <tr>\n",
       "      <th>sit on bed</th>\n",
       "      <td>70.668246</td>\n",
       "      <td>0.360588</td>\n",
       "      <td>0.941940</td>\n",
       "      <td>-0.057595</td>\n",
       "      <td>2.000000</td>\n",
       "      <td>-60.850877</td>\n",
       "      <td>3.107642</td>\n",
       "      <td>922.850877</td>\n",
       "      <td>1.0</td>\n",
       "    </tr>\n",
       "    <tr>\n",
       "      <th>sit on chair</th>\n",
       "      <td>149.708833</td>\n",
       "      <td>0.892502</td>\n",
       "      <td>0.637699</td>\n",
       "      <td>-0.092745</td>\n",
       "      <td>2.000000</td>\n",
       "      <td>-56.608333</td>\n",
       "      <td>2.783079</td>\n",
       "      <td>923.291667</td>\n",
       "      <td>2.0</td>\n",
       "    </tr>\n",
       "  </tbody>\n",
       "</table>\n",
       "</div>"
      ],
      "text/plain": [
       "                    Time     Acc_X     Acc_Y     Acc_Z        Id       RSSI  \\\n",
       "Label_act                                                                     \n",
       "ambulating    145.500000  0.352431  0.911431 -0.086989  1.428571 -56.642857   \n",
       "lying         136.454068  1.003751 -0.207010 -0.107862  3.100000 -55.863636   \n",
       "sit on bed     70.668246  0.360588  0.941940 -0.057595  2.000000 -60.850877   \n",
       "sit on chair  149.708833  0.892502  0.637699 -0.092745  2.000000 -56.608333   \n",
       "\n",
       "                 Phase        Freq  Label  \n",
       "Label_act                                  \n",
       "ambulating    3.218496  922.750000    4.0  \n",
       "lying         3.851561  922.963636    3.0  \n",
       "sit on bed    3.107642  922.850877    1.0  \n",
       "sit on chair  2.783079  923.291667    2.0  "
      ]
     },
     "execution_count": 129,
     "metadata": {},
     "output_type": "execute_result"
    }
   ],
   "source": [
    "df.groupby('Label_act').mean()"
   ]
  },
  {
   "cell_type": "code",
   "execution_count": 139,
   "metadata": {},
   "outputs": [
    {
     "data": {
      "text/plain": [
       "<AxesSubplot:xlabel='Label', ylabel='Acc_X'>"
      ]
     },
     "execution_count": 139,
     "metadata": {},
     "output_type": "execute_result"
    },
    {
     "data": {
      "image/png": "[encoded data removed]",
      "text/plain": [
       "<Figure size 432x288 with 1 Axes>"
      ]
     },
     "metadata": {
      "needs_background": "light"
     },
     "output_type": "display_data"
    }
   ],
   "source": [
    "sns.barplot( data = df.groupby('Label_act').mean() , x = 'Label' , y = 'Acc_X')"
   ]
  },
  {
   "cell_type": "code",
   "execution_count": 147,
   "metadata": {},
   "outputs": [
    {
     "data": {
      "image/png": "[encoded data removed]",
      "text/plain": [
       "<Figure size 1080x1080 with 2 Axes>"
      ]
     },
     "metadata": {
      "needs_background": "light"
     },
     "output_type": "display_data"
    }
   ],
   "source": [
    "fig, ax = plt.subplots(nrows=1, ncols=6, figsize=(15,15))\n",
    "\n",
    "sns.barplot( data = df.groupby('Label_act').mean() , x = 'Label' , y = 'Acc_X' , ax = ax[0])\n",
    "sns.barplot( data = df.groupby('Label_act').mean() , x = 'Label' , y = 'Acc_Y' , ax = ax[1] )\n",
    "sns.barplot( data = df.groupby('Label_act').mean() , x = 'Label' , y = 'Acc_Y' , ax = ax[1] )\n",
    "plt.show()\n"
   ]
  },
  {
   "cell_type": "code",
   "execution_count": null,
   "metadata": {},
   "outputs": [],
   "source": []
  }
 ],
 "metadata": {
  "kernelspec": {
   "display_name": "Python 3.9.7 ('base')",
   "language": "python",
   "name": "python3"
  },
  "language_info": {
   "codemirror_mode": {
    "name": "ipython",
    "version": 3
   },
   "file_extension": ".py",
   "mimetype": "text/x-python",
   "name": "python",
   "nbconvert_exporter": "python",
   "pygments_lexer": "ipython3",
   "version": "3.9.7"
  },
  "orig_nbformat": 4,
  "vscode": {
   "interpreter": {
    "hash": "e747c23ad84bd2d0d19cfad0a72b775aaed6f49f767ddbc5bd094fd76b478967"
   }
  }
 },
 "nbformat": 4,
 "nbformat_minor": 2
}
